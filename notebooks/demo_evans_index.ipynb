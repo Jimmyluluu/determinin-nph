{
 "cells": [
  {
   "cell_type": "code",
   "execution_count": 1,
   "metadata": {},
   "outputs": [],
   "source": [
    "import os\n",
    "import numpy as np\n",
    "import SimpleITK as sitk\n",
    "import math\n",
    "from plotly.subplots import make_subplots\n",
    "import plotly.graph_objects as go\n",
    "import nibabel as nib\n",
    "import json"
   ]
  },
  {
   "cell_type": "code",
   "execution_count": 32,
   "metadata": {},
   "outputs": [],
   "source": [
    "def read_rotation_matrix_from_flirt_mat(mat_path):\n",
    "    \"\"\"\n",
    "    Reads the 3x3 rotation matrix from a FLIRT .mat file.\n",
    "    \"\"\"\n",
    "    try:\n",
    "        matrix = np.loadtxt(mat_path)\n",
    "        return matrix[:3, :3]  # only the rotational part\n",
    "    except Exception as e:\n",
    "        print(f\"Error reading matrix: {e}\")\n",
    "        return None\n",
    "\n",
    "def rotation_matrix_to_euler_angles(R):\n",
    "    \"\"\"\n",
    "    Converts a 3x3 rotation matrix to Euler angles (ZYX: yaw → pitch → roll), in degrees.\n",
    "    \"\"\"\n",
    "    if abs(R[2, 0]) != 1:\n",
    "        pitch = -np.arcsin(R[2, 0])\n",
    "        roll = np.arctan2(R[2, 1] / np.cos(pitch), R[2, 2] / np.cos(pitch))\n",
    "        yaw = np.arctan2(R[1, 0] / np.cos(pitch), R[0, 0] / np.cos(pitch))\n",
    "    else:\n",
    "        yaw = 0\n",
    "        if R[2, 0] == -1:\n",
    "            pitch = np.pi / 2\n",
    "            roll = yaw + np.arctan2(R[0, 1], R[0, 2])\n",
    "        else:\n",
    "            pitch = -np.pi / 2\n",
    "            roll = -yaw + np.arctan2(-R[0, 1], -R[0, 2])\n",
    "    return np.degrees(roll), np.degrees(pitch), np.degrees(yaw)\n",
    "\n",
    "def extract_euler_angles_from_flirt_mat(mat_path):\n",
    "    \"\"\"\n",
    "    Main function: reads a .mat file and returns Euler angles (roll, pitch, yaw) in degrees.\n",
    "    \"\"\"\n",
    "    R = read_rotation_matrix_from_flirt_mat(mat_path)\n",
    "    if R is None:\n",
    "        return None\n",
    "    return rotation_matrix_to_euler_angles(R)\n"
   ]
  },
  {
   "cell_type": "code",
   "execution_count": 33,
   "metadata": {},
   "outputs": [],
   "source": [
    "def apply_euler_rotation(input_path, output_path, roll_deg=0.0, pitch_deg=0.0, yaw_deg=0.0, is_mask=True):\n",
    "    \"\"\"\n",
    "    Rotates a 3D image or mask around its center by given Euler angles (roll, pitch, yaw) in degrees.\n",
    "    \n",
    "    Parameters:\n",
    "        input_path (str): path to the input .nii.gz file\n",
    "        output_path (str): path to save the rotated file\n",
    "        roll_deg (float): rotation angle around X axis (roll) in degrees\n",
    "        pitch_deg (float): rotation angle around Y axis (pitch) in degrees\n",
    "        yaw_deg (float): rotation angle around Z axis (yaw) in degrees\n",
    "        is_mask (bool): if True — use nearest neighbor interpolation and binarization (for masks), otherwise linear interpolation\n",
    "    \"\"\"\n",
    "    # Load image\n",
    "    image = sitk.ReadImage(input_path, sitk.sitkFloat32)\n",
    "\n",
    "    # Rotation center — physical center of the image\n",
    "    center_index = [sz / 2.0 for sz in image.GetSize()]\n",
    "    center_phys = image.TransformContinuousIndexToPhysicalPoint(center_index)\n",
    "\n",
    "    # Create Euler 3D rotation transform\n",
    "    transform = sitk.Euler3DTransform()\n",
    "    transform.SetCenter(center_phys)\n",
    "\n",
    "    # Convert degrees to radians\n",
    "    roll_rad = math.radians(roll_deg)\n",
    "    pitch_rad = math.radians(pitch_deg)\n",
    "    yaw_rad = math.radians(yaw_deg)\n",
    "\n",
    "    # Set rotation around three axes (X, Y, Z)\n",
    "    transform.SetRotation(roll_rad, pitch_rad, yaw_rad)\n",
    "\n",
    "    # Choose interpolation method\n",
    "    if is_mask:\n",
    "        interp = sitk.sitkNearestNeighbor\n",
    "    else:\n",
    "        interp = sitk.sitkLinear\n",
    "\n",
    "    # Apply transformation with resampling\n",
    "    resampled = sitk.Resample(\n",
    "        image,\n",
    "        image,      # output image size and space same as input\n",
    "        transform,\n",
    "        interp,\n",
    "        0.0,        # background value for empty regions\n",
    "        image.GetPixelID()\n",
    "    )\n",
    "\n",
    "    # If mask — binarize the result to remove interpolation artifacts\n",
    "    if is_mask:\n",
    "        resampled = sitk.BinaryThreshold(resampled, lowerThreshold=0.5, upperThreshold=10000, insideValue=1, outsideValue=0)\n",
    "\n",
    "    # Save result\n",
    "    sitk.WriteImage(resampled, output_path)\n",
    "    print(f\"Saved rotated image/mask to: {output_path}\")\n"
   ]
  },
  {
   "cell_type": "code",
   "execution_count": 34,
   "metadata": {},
   "outputs": [],
   "source": [
    "def plot_two_brain_masks_separately(path1, path2, max_points=10000):\n",
    "    \"\"\"\n",
    "    Display two brain masks in separate 3D subplots arranged in one row.\n",
    "\n",
    "    Args:\n",
    "        path1 (str): path to the first mask (NIfTI file).\n",
    "        path2 (str): path to the second mask (NIfTI file).\n",
    "        max_points (int): maximum number of points to plot per mask.\n",
    "    \"\"\"\n",
    "    def load_mask(path, max_points):\n",
    "        data = nib.load(path).get_fdata()\n",
    "        mask = (data > 0).astype(np.uint8)\n",
    "        ys, xs, zs = np.where(mask > 0)\n",
    "        n_points = len(xs)\n",
    "        if n_points > max_points:\n",
    "            indices = np.random.choice(n_points, size=max_points, replace=False)\n",
    "            xs = xs[indices]\n",
    "            ys = ys[indices]\n",
    "            zs = zs[indices]\n",
    "        return xs, ys, zs\n",
    "\n",
    "    xs1, ys1, zs1 = load_mask(path1, max_points)\n",
    "    xs2, ys2, zs2 = load_mask(path2, max_points)\n",
    "\n",
    "    fig = make_subplots(\n",
    "        rows=1, cols=2,\n",
    "        specs=[[{'type': 'scene'}, {'type': 'scene'}]],\n",
    "        subplot_titles=['Brain Mask 1', 'Brain Mask 2']\n",
    "    )\n",
    "\n",
    "    fig.add_trace(go.Scatter3d(\n",
    "        x=xs1, y=ys1, z=zs1,\n",
    "        mode='markers',\n",
    "        marker=dict(size=2, color='green', opacity=0.3),\n",
    "        name='Mask 1'\n",
    "    ), row=1, col=1)\n",
    "\n",
    "    fig.add_trace(go.Scatter3d(\n",
    "        x=xs2, y=ys2, z=zs2,\n",
    "        mode='markers',\n",
    "        marker=dict(size=2, color='purple', opacity=0.3),\n",
    "        name='Mask 2'\n",
    "    ), row=1, col=2)\n",
    "\n",
    "    fig.update_layout(\n",
    "        title='Side-by-Side Brain Mask Comparison',\n",
    "        margin=dict(l=0, r=0, b=0, t=30),\n",
    "        scene=dict(\n",
    "            xaxis_title='X',\n",
    "            yaxis_title='Y',\n",
    "            zaxis_title='Z'\n",
    "        ),\n",
    "        scene2=dict(\n",
    "            xaxis_title='X',\n",
    "            yaxis_title='Y',\n",
    "            zaxis_title='Z'\n",
    "        )\n",
    "    )\n",
    "\n",
    "    fig.show()\n"
   ]
  },
  {
   "cell_type": "code",
   "execution_count": 35,
   "metadata": {},
   "outputs": [],
   "source": [
    "def find_best_ventricle_segment(nii_path: str, occupancy_threshold=0.9):\n",
    "    \"\"\"\n",
    "    Find the segment with the maximum width and occupancy along the X-axis in a 3D ventricle mask.\n",
    "\n",
    "    Parameters:\n",
    "        nii_path (str): path to the NIfTI file containing the ventricle mask\n",
    "        occupancy_threshold (float): minimum fraction of occupied pixels to consider the segment\n",
    "\n",
    "    Returns:\n",
    "        dict with parameters of the best segment: width, z, y, x1, x2, occupancy\n",
    "    \"\"\"\n",
    "    img = nib.load(nii_path)\n",
    "    mask_data = img.get_fdata()\n",
    "    binary = (mask_data > 0).astype(np.uint8)\n",
    "\n",
    "    best = {'width': 0, 'z': None, 'y': None, 'x1': None, 'x2': None, 'occupancy': 0}\n",
    "    X, Y, Z = binary.shape\n",
    "\n",
    "    for z in range(Z):\n",
    "        slice_ = binary[:, :, z]\n",
    "        for y in range(Y):\n",
    "            col = slice_[:, y]\n",
    "            xs = np.where(col > 0)[0]\n",
    "            if xs.size < 2:\n",
    "                continue\n",
    "            x1, x2 = xs.min(), xs.max()\n",
    "            width = x2 - x1\n",
    "            if width <= best['width']:\n",
    "                continue\n",
    "            occupancy = col[x1:x2+1].sum() / (width + 1)\n",
    "            if occupancy >= occupancy_threshold:\n",
    "                best.update({'width': width, 'z': z, 'y': y, 'x1': int(x1), 'x2': int(x2), 'occupancy': occupancy})\n",
    "\n",
    "    return best\n",
    "\n",
    "def find_skull_segment(skull_path: str, z_fixed: int):\n",
    "    \"\"\"\n",
    "    Find the widest skull segment across all y-columns at a given Z slice.\n",
    "\n",
    "    Parameters:\n",
    "        skull_path (str): path to the NIfTI file with the skull mask\n",
    "        z_fixed (int): slice index along the Z-axis\n",
    "\n",
    "    Returns:\n",
    "        dict with segment parameters: width, x1, x2, occupancy, z, y\n",
    "    \"\"\"\n",
    "    skull_img = nib.load(skull_path)\n",
    "    skull_data = skull_img.get_fdata()\n",
    "    skull_binary = (skull_data > 0).astype(np.uint8)\n",
    "\n",
    "    slice_skull = skull_binary[:, :, z_fixed]\n",
    "\n",
    "    best_segment = None\n",
    "\n",
    "    for y in range(slice_skull.shape[1]):\n",
    "        col_skull = slice_skull[:, y]\n",
    "        xs = np.where(col_skull > 0)[0]\n",
    "\n",
    "        if xs.size < 2:\n",
    "            continue  # нет сегмента для этой колонки\n",
    "\n",
    "        x1_skull, x2_skull = xs.min(), xs.max()\n",
    "        width_skull = x2_skull - x1_skull\n",
    "        occupancy_skull = col_skull[x1_skull:x2_skull+1].sum() / (width_skull + 1)\n",
    "\n",
    "        if (best_segment is None) or (width_skull > best_segment['width']):\n",
    "            best_segment = {\n",
    "                'width': width_skull,\n",
    "                'x1': int(x1_skull),\n",
    "                'x2': int(x2_skull),\n",
    "                'occupancy': occupancy_skull,\n",
    "                'z': z_fixed,\n",
    "                'y': y\n",
    "            }\n",
    "\n",
    "    if best_segment is None:\n",
    "        raise RuntimeError(f\"No skull segment found in slice z={z_fixed}\")\n",
    "\n",
    "    return best_segment\n",
    "\n",
    "def check_hydrocephalus(ventricles_width, skull_width):\n",
    "    \"\"\"\n",
    "    Calculate the Evans Index and provide a conclusion.\n",
    "\n",
    "    Parameters:\n",
    "        ventricles_width (float): width of the ventricles\n",
    "        skull_width (float): width of the skull\n",
    "\n",
    "    Returns:\n",
    "        str with the result\n",
    "    \"\"\"\n",
    "    if skull_width == 0:\n",
    "        return \"Error: denominator (skull width) cannot be zero.\"\n",
    "\n",
    "    evans_index = ventricles_width / skull_width\n",
    "    result = f\"Evans Index: {evans_index:.3f}\\n\"\n",
    "\n",
    "    if evans_index > 0.3:\n",
    "        result += \"Possible hydrocephalus (index > 0.3).\"\n",
    "    else:\n",
    "        result += \"Index is within normal range (≤ 0.3), hydrocephalus is unlikely.\"\n",
    "\n",
    "    return result\n",
    "\n",
    "\n",
    "def run_hydrocephalus_analysis(ventricle_nii_path, skull_nii_path, z_fixed=None, y_fixed=None, occupancy_threshold=0.9):\n",
    "    \"\"\"\n",
    "    Main function to run the hydrocephalus analysis:\n",
    "    - Find the best ventricle segment\n",
    "    - Use its coordinates to analyze the skull\n",
    "    - Calculate the Evans Index and output the result\n",
    "\n",
    "    Parameters:\n",
    "        ventricle_nii_path (str): path to the ventricle mask\n",
    "        skull_nii_path (str): path to the skull mask\n",
    "        z_fixed (int or None): fixed slice index for skull analysis (if None, taken from best ventricle segment)\n",
    "        y_fixed (int or None): fixed column index for skull analysis (if None, taken from best ventricle segment)\n",
    "        occupancy_threshold (float): minimum occupancy threshold for ventricles\n",
    "\n",
    "    Returns:\n",
    "        dict with analysis results:\n",
    "            best_ventricle_segment,\n",
    "            skull_segment,\n",
    "            hydrocephalus_result\n",
    "    \"\"\"\n",
    "    best_ventricle_segment = find_best_ventricle_segment(ventricle_nii_path, occupancy_threshold)\n",
    "\n",
    "    # If z_fixed or y_fixed are not provided, use those from the best ventricle segment\n",
    "    if z_fixed is None:\n",
    "        z_fixed = best_ventricle_segment['z']\n",
    "    if y_fixed is None:\n",
    "        y_fixed = best_ventricle_segment['y']\n",
    "\n",
    "    skull_segment = find_skull_segment(skull_nii_path, z_fixed)\n",
    "\n",
    "    hydrocephalus_result = check_hydrocephalus(\n",
    "        ventricles_width=best_ventricle_segment['width'],\n",
    "        skull_width=skull_segment['width']\n",
    "    )\n",
    "\n",
    "    return {\n",
    "        'best_ventricle_segment': best_ventricle_segment,\n",
    "        'skull_segment': skull_segment,\n",
    "        'hydrocephalus_result': hydrocephalus_result\n",
    "    }\n"
   ]
  },
  {
   "cell_type": "code",
   "execution_count": 36,
   "metadata": {},
   "outputs": [],
   "source": [
    "def visualize_dual_masks_with_lines(\n",
    "    mask1_path, mask2_path,\n",
    "    slice_index,\n",
    "    line1, line2,\n",
    "    label1='Mask 1', label2='Mask 2'\n",
    "):\n",
    "    \"\"\"\n",
    "    Visualizes two masks side by side with corresponding lines overlaid on each.\n",
    "\n",
    "    Parameters:\n",
    "        mask1_path (str): path to first mask (.nii or .nii.gz)\n",
    "        mask2_path (str): path to second mask\n",
    "        slice_index (int): which Z-slice to display\n",
    "        line1 (dict): {'x1': int, 'x2': int, 'y': int} for first mask\n",
    "        line2 (dict): {'x1': int, 'x2': int, 'y': int} for second mask\n",
    "        label1 (str): label/title for first subplot\n",
    "        label2 (str): label/title for second subplot\n",
    "    \"\"\"\n",
    "    # Load and binarize both masks\n",
    "    mask1 = (nib.load(mask1_path).get_fdata() > 0).astype(np.uint8)\n",
    "    mask2 = (nib.load(mask2_path).get_fdata() > 0).astype(np.uint8)\n",
    "    \n",
    "    # Extract slices\n",
    "    slice1 = mask1[:, :, slice_index]\n",
    "    slice2 = mask2[:, :, slice_index]\n",
    "    \n",
    "    x_dim, y_dim = slice1.shape\n",
    "\n",
    "    # Prepare meshgrid\n",
    "    xs, ys = np.meshgrid(range(x_dim), range(y_dim), indexing='ij')\n",
    "    xs = xs.flatten()\n",
    "    ys = ys.flatten()\n",
    "    \n",
    "    # First mask points\n",
    "    m1 = slice1.flatten() > 0\n",
    "    x1s = xs[m1]\n",
    "    y1s = ys[m1]\n",
    "\n",
    "    # Second mask points\n",
    "    m2 = slice2.flatten() > 0\n",
    "    x2s = xs[m2]\n",
    "    y2s = ys[m2]\n",
    "\n",
    "    # Create subplot with two plots side by side\n",
    "    fig = make_subplots(rows=1, cols=2, subplot_titles=(label1, label2))\n",
    "\n",
    "    # Add first mask\n",
    "    fig.add_trace(go.Scatter(\n",
    "        x=x1s, y=y1s,\n",
    "        mode='markers',\n",
    "        marker=dict(color='blue', size=2),\n",
    "        name=f'{label1} Mask',\n",
    "        showlegend=False\n",
    "    ), row=1, col=1)\n",
    "\n",
    "    # Line on first mask\n",
    "    fig.add_trace(go.Scatter(\n",
    "        x=[line1['x1'], line1['x2']],\n",
    "        y=[line1['y'], line1['y']],\n",
    "        mode='lines+markers',\n",
    "        line=dict(color='red', width=3),\n",
    "        marker=dict(size=6),\n",
    "        name=f'{label1} Width',\n",
    "        showlegend=False\n",
    "    ), row=1, col=1)\n",
    "\n",
    "    # Add second mask\n",
    "    fig.add_trace(go.Scatter(\n",
    "        x=x2s, y=y2s,\n",
    "        mode='markers',\n",
    "        marker=dict(color='orange', size=2),\n",
    "        name=f'{label2} Mask',\n",
    "        showlegend=False\n",
    "    ), row=1, col=2)\n",
    "\n",
    "    # Line on second mask\n",
    "    fig.add_trace(go.Scatter(\n",
    "        x=[line2['x1'], line2['x2']],\n",
    "        y=[line2['y'], line2['y']],\n",
    "        mode='lines+markers',\n",
    "        line=dict(color='green', width=3),\n",
    "        marker=dict(size=6),\n",
    "        name=f'{label2} Width',\n",
    "        showlegend=False\n",
    "    ), row=1, col=2)\n",
    "\n",
    "    # Layout adjustments\n",
    "    fig.update_layout(\n",
    "        title_text=f'Slice {slice_index}: {label1} and {label2}',\n",
    "        height=600,\n",
    "        width=1000\n",
    "    )\n",
    "\n",
    "    # Match axes\n",
    "    fig.update_yaxes(scaleanchor='x', row=1, col=1)\n",
    "    fig.update_yaxes(scaleanchor='x', row=1, col=2)\n",
    "\n",
    "    fig.show()"
   ]
  },
  {
   "cell_type": "code",
   "execution_count": 37,
   "metadata": {},
   "outputs": [],
   "source": [
    "def check_and_get_paths(base_path: str):\n",
    "    \"\"\"\n",
    "    Checks for the presence of three required files in base_path:\n",
    "    - aligning.mat\n",
    "    - brain_mask_combined.nii.gz\n",
    "    - lateral_ventricles_combined.nii.gz\n",
    "\n",
    "    If all three files are found, returns a dictionary with their paths\n",
    "    and additionally adds expected paths for the aligned files.\n",
    "    \"\"\"\n",
    "    expected_files = {\n",
    "        \"mat_file\": \"aligning.mat\",\n",
    "        \"brain_mask_combined\": \"brain_mask_combined.nii.gz\",\n",
    "        # \"ventricles_combined\": \"lateral_ventricles_combined.nii.gz\"\n",
    "        \"ventricles_combined\": os.path.join(\"brain_structures\", \"ventricle.nii.gz\")\n",
    "\n",
    "    }\n",
    "\n",
    "    paths = {}\n",
    "    missing_files = []\n",
    "\n",
    "    for key, filename in expected_files.items():\n",
    "        full_path = os.path.join(base_path, filename)\n",
    "        if os.path.exists(full_path):\n",
    "            paths[key] = full_path\n",
    "        else:\n",
    "            missing_files.append(filename)\n",
    "\n",
    "    if missing_files:\n",
    "        print(f\"❌ Missing files: {missing_files}\")\n",
    "        success = False\n",
    "    else:\n",
    "        print(\"✅ All files found successfully!\")\n",
    "        success = True\n",
    "        # Add expected paths for aligned files\n",
    "        paths[\"aligned_brain\"] = os.path.join(base_path, \"brain_mask_aligned.nii.gz\")\n",
    "        paths[\"aligned_ventricles\"] = os.path.join(base_path, \"lateral_ventricles_aligned.nii.gz\")\n",
    "\n",
    "    return paths, success\n"
   ]
  },
  {
   "cell_type": "code",
   "execution_count": 38,
   "metadata": {},
   "outputs": [
    {
     "name": "stdout",
     "output_type": "stream",
     "text": [
      "✅ All files found successfully!\n",
      "{'mat_file': '/Users/maratorozaliev/Desktop/MindScope/data/000473518G_110131/aligning.mat', 'brain_mask_combined': '/Users/maratorozaliev/Desktop/MindScope/data/000473518G_110131/brain_mask_combined.nii.gz', 'ventricles_combined': '/Users/maratorozaliev/Desktop/MindScope/data/000473518G_110131/brain_structures/ventricle.nii.gz', 'aligned_brain': '/Users/maratorozaliev/Desktop/MindScope/data/000473518G_110131/brain_mask_aligned.nii.gz', 'aligned_ventricles': '/Users/maratorozaliev/Desktop/MindScope/data/000473518G_110131/lateral_ventricles_aligned.nii.gz'}\n",
      "Success: True\n"
     ]
    }
   ],
   "source": [
    "base = \"/Users/maratorozaliev/Desktop/MindScope/data/000473518G_110131/\"\n",
    "paths_dict, is_success = check_and_get_paths(base)\n",
    "\n",
    "print(paths_dict)\n",
    "print(\"Success:\", is_success)\n"
   ]
  },
  {
   "cell_type": "code",
   "execution_count": 39,
   "metadata": {},
   "outputs": [
    {
     "name": "stdout",
     "output_type": "stream",
     "text": [
      "Roll: 2.00°\n",
      "Pitch: 2.56°\n",
      "Yaw: 1.33°\n"
     ]
    }
   ],
   "source": [
    "mat_file = paths_dict['mat_file']\n",
    "roll, pitch, yaw = extract_euler_angles_from_flirt_mat(mat_file)\n",
    "print(f\"Roll: {roll:.2f}°\\nPitch: {pitch:.2f}°\\nYaw: {yaw:.2f}°\")"
   ]
  },
  {
   "cell_type": "code",
   "execution_count": 40,
   "metadata": {},
   "outputs": [
    {
     "name": "stdout",
     "output_type": "stream",
     "text": [
      "Saved rotated image/mask to: /Users/maratorozaliev/Desktop/MindScope/data/000473518G_110131/brain_mask_aligned.nii.gz\n",
      "Saved rotated image/mask to: /Users/maratorozaliev/Desktop/MindScope/data/000473518G_110131/lateral_ventricles_aligned.nii.gz\n"
     ]
    }
   ],
   "source": [
    "apply_euler_rotation(\n",
    "    input_path=paths_dict['brain_mask_combined'],\n",
    "    output_path=paths_dict['aligned_brain'],\n",
    "    roll_deg=roll,\n",
    "    pitch_deg=pitch,\n",
    "    yaw_deg=yaw\n",
    ")\n",
    "\n",
    "apply_euler_rotation(\n",
    "    input_path=paths_dict['ventricles_combined'],\n",
    "    output_path=paths_dict['aligned_ventricles'],\n",
    "    roll_deg=roll,\n",
    "    pitch_deg=pitch,\n",
    "    yaw_deg=yaw\n",
    ")\n"
   ]
  },
  {
   "cell_type": "code",
   "execution_count": 41,
   "metadata": {},
   "outputs": [
    {
     "data": {
      "application/vnd.plotly.v1+json": {
       "config": {
        "plotlyServerURL": "https://plot.ly"
       },
       "data": [
        {
         "marker": {
          "color": "green",
          "opacity": 0.3,
          "size": 2
         },
         "mode": "markers",
         "name": "Mask 1",
         "scene": "scene",
         "type": "scatter3d",
         "x": {
          "bdata": "AgEjAcAAtwDEAJ4AKQGsAAEBGQG3AMcAdQGjAP0AWwHWAI8A1ABjAWMBYwBtAKQAFQHpAKIArQAUAU4BOgHCABgBJQEsAaUAjQCOAEAB+QD4ACsBBwF0APMAGgGKAKUA1QD+AFABDQGhAEgB5wCXAPkAeQHXACsB0gAAAU0BeADTANcAvgBhAZQAhQBaAQsBHwHxALUAPgEeAb0AfQCaALkAUQHoAC8BygCmACAB6ABYAc0AewCbAE8BqQD/AEEBOwGfANgAfQE5AbkAmADpANQAVAEaAR8BAAFGAXEBywB+AO4AmQDTAJgAkACDAC8BpQChAF0BsgB8AcgADAE6AZkAkwAPAa0A1wDvAKIAPwG+ALMA7AD8AKkAfgGbAIkA0wAEAV8BgQAhAcoAXwG2AI4AkwANAQkB+gBPAfIARQEfAaAAhACDAREBogDdAO8AtACFAJkAlwCeABYB8QAFAdYArABmAeUAsAB1ADQBfwBVAcIAcwBEAWEBsgBTAc4AOgHdAKAAoQCiAFwBOQGVACcB1wC0AJgA5AAQAVkBUQHNADQBuwAqAVIB+QCLAOsA0ABSAUIB9gAGAckALQG0ALMAmQCvAPEAmwBcAcUABAHwAK4AMAHdANwAogDGAJkAkwCcAAUBmAARAQMB1ABjANgAZQEVAXEAiwC5AHsA/gDxAIIA7ABhAaEAbgEEAYwASwEOAVABOgEQAasA/ADWAPAAygDcAG0AowARAeUA7gD8AH0B+wBMATgBFAESAWMAuACWAHQBbgBtAS0BUQFKAYUAvwChAPIAsgC0AIkAsABOAZsAhACkAP4A1QCuAHcADgGDALoAFgGrAGwAsQC0AGUB8gAWAQ4B5wCRAPwAyQD4AK8AgAAhAZ4AsgAfAVIBKAHOAOMApwA5AZcAsQA6AagAEwF1AZIAkgDlABMBBgEeAYkAWAFkAc8A6QDZABwBqQA4AbUArAAXAWQBbQEOAbIAyQD2AEUBnwCpAAUBWwGKAIAB0QDSAOkAqADcADABNQGtAD8BnwAoAasAhQHHAP0A7QAwARwBpwBuAPQAWgGEAc0AoQDPAHsAqQAOAWsBJwFZAT0B0gA8Ae4A4QA7AcAAXgGfAM8AlwAjAZMAawB+ABQBRgGBAA0BqQBuAYAA3AB2AQsBFwELAXgBmwAoASABsgADAXMAVQGCAGABEwEYARcBEAHfAHgBGAE+AXgAkgCIAGwARQEZAbgAvQDMAJ8ANwFUAcoA3gBSAasA8wBgARQB0gDUAL8ABgG0AMIAtAAlAfYA7QDRACMBngApAZQAgwCVABIBrwC8AEIBxwA9AcUABwFcAScBZAHIAPIAHgG1AGkBIgFRAfoAfgArASoB/QApAawA7gC2AOkAkgBEAf0AKQGkAIAAcQCEAHoBvgATAeQA5QBJAdwAswBzAa0A8QCKABMBlAApARsBOgEbAa0A3QBoAL8A2ADVAMMAeAFIAYQAWAHfAOwABQGVAIoAYwHhAEkBOAGxAMIAOwGcAHEBTwHIAJ8A8gCXACEBSgHkALMAWgH3AGsBOgG4AA0BWgG5AP8ASAGFAUkBMgFaAZUACgF8AXgBcgErAQcBvwAxAcEAmQCMADEBcABCAUkBrABIAaEAaQFlASgB0AA4ATgBvgAvAQkBpAD2ACYBrQA+AakA4QDDANkAVwGiAHoAHgHXABYBCQGrAJAAiwCyABsBWwElAZIARgH/ABQBAQHAALcAygDpAKsAVQH2AGIBSAGEANYA6QAQAVUBkADPAJYAlwC1AM0AygBxAFABuwC7AOkAbQDHANAA6gDJAJMAmQApASYBZAHlACgBGQHmAKkAMAGYALQAlgDcAKUA2wAxAR0BGQHlABABJAESAToB6QBeAU4B/gCzAFABgADXADgBsAAEASkB/ADtAA4BAgE6AS0BfgDyAHQAdQAPAdAAygDXAB8BgQCaABUB2ADKAP4ACgHlAA4B3QAeAf8AngDuAM0AcgGtABgB4wBUAaoAmQDQAOYAIgGKAPQAUgFFATsBuACIADUBMAFMAXUAYgEpAQABoQDHALgALQHqAHMBYAEzAS8BJgExAS4BWAE4ASUBkQB4AF0BawGcAIoA0wBpAXoBZAFIAcYAUwGXALkAeACyALoAJQECAZkAlwBzARYBLAEZARgBiACDAPkAOwGfAFwB5QDcACcBmgAMAc8ATwG/AFUBbAGzADoBsgDbAD8BZAFnAf0AxQDcADMB5AC2AP8ATQEcAToBhACvAD0BqgAnAQsBYwD1AHMBNQE6Ae4AiwAJAfgAAQEmAR8BmwCBAPwA0wCWAIMAwwD6ACYB6gBgAeEAOAFfAWcAkgBTAfoAqQCAAN8AogDSAJIAXAHcADUB4AAQAeoAnABnAZ8ACwGrACABMAGzAJYAMgEDAY8AngA9AeAAmQDpAKgA2QBiAa4AHgGOAIIAWQGSANsAjQCkAL4AxwCsAIoAbQBSAZoASgHyABEBwgAdARcB5gDwAAUBFgEiAV8BpAASAYkAWgH+AFYB1QBEAc8AswAlAUwB4AAXAbIAjwDgAK0AyQBMAUIBzQCFAEIBLAHPAHcAGQG4AMUA2gBLAc4AigAxAdQAnADZAPsA2wA6AZcABgFxAP0A4wCrAJEAEQH7AJ0AewAbAWYBJwFAAbkAdwH7ACsBTwH0AEgBawHGANEAtgAcAUUBMgFRAYcA6wDKAPQAuwCEAPIAqwBPAc8ABAGOAGoAMgEhARABGgE5AQ8BVgGaAB8BpQCeAL0AvQDOAMsAMQG+APYAnQAIAUABnwDTAKcAXgHnALAApgAEAZwABAHIAIkATwF+AIsA9ADeANsAGAFyAHYBLQHvANkATAFbAfkAdQCWAB0BTgEnAUoBsQABAcgApQAHAQsB8ACcAB4B8AAuAfgAxQBaAWABywCaALEA1gCKAHwAqACMAKEAKwEWAREB2wChAAYBDwHwAN4A+ACPAGMB4gB6ABUBogBBAZQAmAAtAbUAJgFGAb4AXAHpANAApAB+AMEAjwDeAK8ANgHyAN4AjADIAOkAawCoAD8BQQExAUkBdQBwAIMACwEQAZkAiAC1AMQAEQEbAesA9QB4AFYBqADTAJAAFAGcANgA+AABAX8AkgD5ACoBOAERAasAjwDZAJgA0wAqAVcBPAGYAO0AOQGyAAMBLgGIAAQBZwEkAQ0BOAHtAMsAqwAlATMBcQEeAe4A/ADfAKgA6ACoAE8BlwB1Ac4AVAHfANYAPAH5AIIBwwBkAcIAAgGCAaMADgE1AYoAzACUAI0A1gCjANsAwADhAIgANQGHAXcBCAEdAaEAaQGPACYBZwG/ADMBJAHWAAIBRwHcALkAnQC6AMUAAwHoAIsA/QDQANQAlgDbAK4AzgCUAJoA1ACIAN4A5wAAAVABjQCCAKwAAAHeAKcAWwHLADwBSwELAT0BrQDpACkBIwHLAJMAxwDdAPwAbwE2ATcB+wDkAAoBsACXALcAzwCVAOAAkABIAdAAugDXAPoAXQGfAKoAlQBxAPgAGAFiAIUAiQBjATYBJgHCAAMBnwAnAZoAjACkAKwAOAGtALAAJwESAc0ALwGTAL0AsgCxAAYBxgCoAPUAUQGNAM4A0ADiAPYAqgCeAEMBNAGyAMEAcgGtAKgAXgGiABIB6QDcAEAB1QBQAR0BFAG0AK8AxgCkAKQARwEEAacAvQA+AdsAfQAXAbQAqQCcAAUBRQHHAEMBQgG4AF4BwwALAaIAYwB7AYAAGwGlAGQBngBUARoB4gB6AC4BvwAhAXkAkgCtAC4BAAHQAOIAHQGjAMUAqQAFAeoADwE2AWUBIgGYABYBhQAOAegAtADzAO4ARgHwAEEBOQGcABcBrQAzAawAQAGdABEBoQDUAGEBnwAHAaIAPAGnAKoAIQEIAS0BsQADAdoAeACJACQBDwEbAfUAmwAgAaoAFQE1AaQABQEoAbYALwEAARwBqADFAFYB7gAbATMBAAHFAAgBOwF7Ac4A+gANAdoAtADYAHUAJQHTAIQAxQAuATIBSwF1AeEAiwAzATIBqwBuAQsBEQEnAWsBCgE/AUoB+gD/ABUBEQEnAZIAkgDlACkBtwCIAC4BhwBJAXgA5ACiAEQBZQEeAV4BGAFhAU8B3ACLAIMAmABsAZMAlQC/ADMB9QCiAKMAHQEPAfIAGgEvAVcBegDeAFABEgE9AQ0BoQAPAWgBYwDBAPgAwACdAAgBdwBWAdsA1ADKAFQBmQAqASoBFQG1AJIAkwB6AO4ASgFXAewAEwG2AHkA8wB4AOsAqwCuAGcAjADHAAIBiwAOAZoAWwGDAXYBbAE/ARIBiAA8AUEBLAEOAUEBiwC6AJMAlQAbAUgBXAFIAfoAKgEgAaoA8gCHAN4A1QCXAHsBKQHeAIUAiwBaAcoAFQEYAbYAFAGaANAA7gDNAKAACQFwAMkAhQCNACABTQGSACkBFAFIAVkByQDhAO8AowDOAIwAFgE4ASEBgQFIAZUAAgFyAXkAFQH4AEEB4QD7AM8AAgE+AcsAnQChADMBxwB+ALQAmgDsAEcBQgFiAZEASgEdAcQAUQHxAOcAhACNAKoA0gAIAf8AnwCyAOgA1QAkAc0AawD1AMwANwHXAOgAkQDvAHIByQAlAcMAuABaAecAsQCVADYBOAEJATMBkAAcAXEBKwEZAZUACQGHAE8BtwCUAIkAFAGOADcBDgHuAAUBAwHFAIkAvwB6Ad8AGwFEAbMA4ABsACcBsADoAOgA7gAcAZYAfQFpAB4BJAEAASEBuADpAGQBKQH7AJwAIwGAAOwARgHZAPcATAEYAUAB1wBOAe8A8AA/AVsBEgFGAVwBXwHGAFIBbgGzABUBCwFAAboAKAGiAOgAmgB6AN8A6AA5AWYBWwFiAeMAaQGSAMAAuwDXABABmgCjAEYBDwHtAOMABAEBAakAyABlAW8AlgCPAPgAngD5AJ0AAgFOAYMAqwD4APEAdQH8AJQArAA9ARIBXgGiAMoAVgFGASsBFwFiAIcA2AB+AMoAowCgADIBnAAuAZ4ApwCqALsAGwFaAfgAPwHsAG0BxQCNAFUB/wB6AMsACwFOAa8AsACvAOcAoABjAYEAmgAzAfgAhgDdAKQAPQHRAKwAYwDTAKYAlgATAb4AowDlAK4A/ACjALIA7gD/AKkAHQGmAKQAewBuACwBowChAJ4AqQA4AagAegAVAasAnwDnAIsArQA6Ae4A9QB3ACIB0QBCAWwBpwCvALgAXwG9AAUB8gBlATgB/gCTAAkB8gAhARsBswAhAfkAWgFyAVUB1ACvABkBCgEwAQgBXwF9AE4BhgCFABoBxwAJAQ8BkQBYAS8BCgE0AXwAlQDlACoBcgEIAfYAWwHcACEBGAGmAK0AlwCXAF8B2QA3AdUACwEEAVkBLQHcAJoARQGRAIYAhwBGAe0AEAEFAawAyACYAN0AjgA5AaYA4AD/ADYBOQH0ACkBgQGoAIsA1QCnAKoAyQC6AP8AngD9AOUArgBnALQAgAAsAUoB7QAxAYoA9wCvAJwAogCTAE8B/wArAX8AKAHbALsAjABvAa8ADgHNAHIALwHaAJwAlQB0AfcABAHKAIoAMgE0AawA7QDtAEMBWQGuANsA7wBpAUoB5QCmAAkB3QAZARgB3ACOACgBhgCEACQBmwDAAFABEgHrAP0AXgH3AOIACgEBARoBMgGgACUBYgEVAcYAZQH0AJYAHwHhABIBCAFAAXYBZQBUAR4BNgFVAQ8BbgC5ABwBqAD7AOsApwD1AIsA8wB9AQcBSQFhACoBlACbABYB/QByAfQAWAFqAUsBfAHkAL0A4AA2AbwArwCKAGQBrACmAIsAOAFFAfMANwH1ADIBkgDuAFoBYwFTAQkBRgGGAHkBAgH6AKIAzACuACkBbQFWARgBBgGlALgAPQGAAPQAUgEgAQoBeQBqAGwBNQEnAXgAggAgAVMBbQA3AeEA+QAtATkBIgHnAGkBDwERAb4ArAB/AckAuAAZASgBKwGiAM4AogCiACEBDwFxANIAQQHqAIcAkABgASsBVAFTAfIAnADPAAMBFAHPAJ8ADgGZAD4BjAAIAS8BWgGzAAUBawBdAQsBcgGjAEIBSgHeAJQAtwBjAZkAfgA4AX4AswBiAQMBEgFAAaoAbgEMAf8A6gDoAF4BegGWADkB8ACkACABIgGfAAYBnwAWARABAAHxALIAigCbADoBIQEYAdQA6gDeAE4BFwHeAMAAWQFYAV8BwwAhAUoB7wB6AQ8BDQE+AYYAFQFjAPoAKAHsAB0B7gBBAXIB2ACEAFUB4gBxAb0ATQEYASEBmABeARkBBgF8AOoACwEOAZwA+QCGAOAAfgAIARcBIQGwAJ8A4gB0AQIBeAFRAawAGgEUAXEBKAHDAH0AKQHOAJMAHgF0AQMBqwC3AK4AfgAnAfAA0wCnAI0AlgDQAO0AFQFQARMBOAESATsBlgAOAfQADAF3AKgAHgG+AH8A9gD+AG4AdwAAAYIA6wBlAbsAmgCmALQAhAB1AFYBGwFAAaYAiAAwAeQA5ADmAI4AIwGxAKIALgEAAdAAiQDJAAMBaAHzAGEBnQClAEAB/wCKAA0B9wBtACkBEwEeASABQQGLABAB0QCkAFEBKQGWADwBbgGcAMoA9gBGARkBygAcAUIBoQANATgBUwFnAXsAKQE8AeEAnQAwARgBVQHAAGAA0wAFAZwAqACHAG4A1gAWAbYA1gAWAfwA6QBHASMBRgEsAaIA1ACUAPUAMwG8AGEBwQDiANoAWwG/ACUBxABsAE4BxgC3AIMAYgHFAN0AtAD+AIUA5QBmASYBCQG6ALgACwGlABIBPwGRAFQBrwDSAHcApQA4AX8AIAGHAO0ALAFFAeMA/QAMATUBygDOADoBwACjAPIA2wDtAF8BogDrAJkAagEgAeMAkgDHACUBeQG1AMgA3ABtAZoAAQE7ARwBPwEJARABowCYANkAJAHnAMsAHwEWARwB/gADAWcBggAmAfoA0gDvAK8AEQGOAGcBqADbAFQBkQBzAZQA6QB+ADgBnwDHAP0AvQDpAA4BmQDIAKAA0ACrAFoBMgGTAKAAnAAOAcIATAEdATQBBAHyADkB2AATAUUBIwFsAbYADwHyACoBsQCKAEoB8wDVAAUB8wC2APEAKAGlAMkAFAHjACwBUgH1ACAB8AB0ABgBrQCoALYAKgG6AOgA4wAYAcsAkQD8AIMAkgBPASYBawEIAQsBmgBnAUgB5wAHAY8AXQF6AUYBtADhAPoAXAFfAQkB2ABAAQ0BlwCFAd0AjADxAOQAJAFqAPsAogDfACkBJgHLAEcBHgGEALgAsQAMAQABjACcAA4BggB1AGYB1gBVAdwAMgEwAfsA1gDZAOwAhADFANIApQCqAJAAHwEdAc4A7wAXAe4AEwGXAEIBEQHxANwAwwAPARQBhgDNAEsB6QDHAPAAJgGeAC4BsQAUAdgA2QAzAX4AHwErARcBcgDnAKwARQF0APUAlQCoAPoAoACqAG4BewAZATABLQHMAAgBFgFHAQsB5wCbAE8BdgBaARMB0ABMAZoAdgB8AKoAygAIARYBqgC8AMgAqgCzAI0A9gC0ADQB8wCUAPIA1QA/AXsAZQHIAIoAvgDgALYAhABFAUUBSwHvAJsAewD/ADcBxgD6AJsAjwAWAYAANAFPAREBuQCeAI0A5AAAAeoAugCEACkBGQEgAaMAtwCOALsArwA4AUEBxAAqAR4BpQCmAKgAyABkAQUBuQCiAGABwgA4AfoAtABqAXoBPgHqAC8BlwDdAGYB2QAkAbsAhAD/AA8BcgGCAM8AsACIAVABMQGvAB4BkgCQAGMBiADUAGkB2gCZANYAgQAFAZwAXwHUAJcAFAFFAXsAuAD/AGcBlQAkASQBzQDCAKYA5gDQAKAAtQBWAYoAPwHtADwBMgEJASoBPgH0AI0ACwEmAbwAbgGXAJEARwGvAE0BeQAPAQwBxQD2AFQBwQAvAX0AQAF3AFwBBwF3AEwB2ABvAUMBTgFSAWIBtwD7AEoBGQGcAAMBOgEyAXcBeQDRAMMAiQCwADMBVQGtAJoA2gBKARwBNgF7AU0BNAHdAJoAkABxAcAAaAF0AagA+ACVAKMAAgGaACQBowB6ADMBwAAXAesAigBQAfcAQwGoAKIA6QAAAYoA+wCbANMAogByAXABgQEXARcB2AAKAZIA1QC5APgAggD8AEcBEQGiAAUBXAHEAKsADAEKAWUBcgDhAF4BKwH5AMoAzwBGAWwBtADvAN4AiQCBAFcBWgEyAQ0BJAH4ACcBNwHIAGEBwgCOAFMBiwB/AX8AFwFIAZwA4QBpAQsBewEPATsBwgCIAJMAzwBLAfwAGwHHAI0AvAA7AfwADwExAdkA4gCZACUBYgF6ALsAygCVAAEB2gBeAfQAEgHSADsB/QB9AXcBYwAgAb0ApgAoATkBHQGRABwBEwFdAWUB7wCzAN0ArQBFAeMAwAAvARYBpwCbALkAsgD8AJQAsQDhALEAGQGwAHUAPgFKAVsBqQA/ARkBCQHQAB0BLAHJAJsA2wDdADIBKgEOAV0BnABKATUBxQAKASIBsgAsAeYA9QDcAA0BKQFHAUYB1gClAEsBnwCcAHwBowD1AAIBHAGvANUAhACOAOEAkgD0ANwAzQAvAZMAnwCSAPMAawCTAPEAtAAIAZ4A+gCPAAkB7QAMAVMBtQANAbAAFQHIADgBUgEkAfoArAD3AAgBcwFwARgB/ABAAXMB9QBVAfcAIwE7AaAAgQCnAO8AgwAfAd4AEgGdABwB2gDIAGcBzACJAN0AqADwAGYB6QAPAakATAGOAOwAowB7AY4A2wDDAKAAvABIAXEBzADpALsAvwBvAFABnQAoAQcB0QCDAJIAHwEjAd8A6gB/AdIAVgEPAdkA6wAvAScBzABvAFYBRwFJAaQAZwFcAX8A0gDwACUBLwHfAH4BxwCKAJQAEgHTACkBvAAnAeAAgAEgAXEBcwAuAbwAKgF0AKgAuADRAMkAmABaAVwBZQC1AOsAGgFRARUB7wDAAJoA0gCMACIBJwGnAPUAHAENAUkBsQANAR4B1QBgAWUBBwHNALwAPgF7ACwBlQBFAckA/ACiACEBJAHFAJoAHgGwAAABWwGxAHoALAHKAJEAnwCXABIBPgGgAC0BUAEAAWUBegEzAVkBXAHgAD0BxAD7AIYA/ACuAOQA3wDyAMYAcgASAawAfQA2AfsACQGgAJwA5wAvATcBcQFZAQsBowCYAO0AFwElAb8AtgAFAcEAswDlAH4AhAAFAbwASAG4AOgAHwGlANYAwgDgAF8ByQC+APYAhQAIAY0APQHwAK8AoAAlAb8AzAA3AS0BvwCfAHkAHQFmAacAugB8AQ0BuACVAGYBoAAcAWIBJwF8APwAAgGGAP4A9QDTAM0AawGzAKQAfgFpAb4AngD4AN0AXwEXAQMBJAF/AFsBCgE2ASsB/QBvAYUBJAHIAJIAqwAkAf0AowDsAJ0AmwCrAD8BsADgAHABEQFSAaMAagDCAFUBkAD3AOoADgHmAOcAGAH9AKEAmADlAPsADAG0AP4ANAEuAeQAPgFPAesAFAHsALAAnwCqAPcAggAoASYBuACTAN8A+QBDAWwBMgE7AXABqwBQAd0AhQCzANsAvgCxADMB2gAfAcsA0QCwAI0AAwEvARkBTQFcASEBmQBEARsBFgHoAEIB/gAiAW0BaAGhAOwAuwCWAH4BAwGFAKgAnADdAJ4ABAHgAOIAPQEhAc0ADgGJAAMB/wC4AEAB5gCuAPAAMQHlAD0BeAHNAA8BAQEpAfIAZwEGAWkAbQGsAGsBhwAiAbYAYgFSAUgBKQGHAAgBwwBKAeQADQGsAOsA1gD4AMsA5ADQAKgABgHQAEEBaAHXAAwBmgD/ACEBYwGrAIMBWAF2AOUAWgEfAdkA2QDGAFkBugAQAa8AGQGjAE8BDgFEAT8BIQFeAVsBzwBpAK0A2AAuAVABEAHnANEAJAHhAIgAugCTAIQA4gCXAOkAHQEiAbEAhwBVAUQB7QDkADQBAQEYAbsAZABuAIMAigArAUQBWwFzAKoAzwDJAPcAhgBOAS0BygBvAOIAaQAOAfQAQgF8AIYA9wDpAB0BwACHAIsAdQBsAdMAMgHpAJgANgEHAesA/QDhAKkAFgEuAXIBlwB1ANgAjgDAAJMAuQATAV8BmwBlAR4BnQBcAe0AiwBfAZIAkACwALcArAB7AIUA6QCWAJQAjQClAHsBOwF8AHYB+gBXARYBgwG5AL0ABQHDAFYB+QCEAAMB/wCjANcAKAG6AGwAcwFNAUYBFAE4AdgANAH/ANcAAwG7AC8BtAC1AMoAkAAuAQQBmACCAJgAswBBARYBHwGLAK4AiwAQAasAywA9AZcAHAGKASYBnQBWAY8AmwDTAAABvwCDACsBcADTADsB9AC7AB8BbAAAAaIAGQErARwB4ACoAMcA7gDhAK0AlwDjABcBagG/AOkApQDSALIA1wCMANsAogBYAYQAzAD9AB8BSQGPAAgBjAAnAa8AOwGvAPwAewErAWwBOAGUADUBjACsAPkA2ABgARgBNAGyAIIBOAHgAPMAMgEeATcBogCrAC0BvQDwANEAyACtAPwAtABoAcAA/ADlAHgA7wBmAUAB9QClAIoABgFrAKYACgErAX8AtwARAfQA9QCvAB0BJwGrACgBdQE9ATMBjwAZAacAqACbAIQBsQCZAKMAbQC3AD4BTwHrAAYB+gCqAOcA1wBUAV8BdgC8AGQB0wAMAbIAOAGqAAIBXwE+AYIBnADJADABTAEeAQAB2wAgASABBQGhAGoBUgFnAPsAlAC1AMwAIwGmAHoAdAFUAfIAMwEzAaQAvQAaAZwAYQEZAdoApQB/ALoACAE2AW0AkAA+AREBnQD8AJIAGwE1AaIAzgDZAOYA1QDhAMQAxgAEARIB2ABTAcgAZAGtAIQAuQB3ABsBigB4AQoB9gAmAaAA6AChAAsBwgApAQkBjgCvAEoB0QAjAfIAlwDbAPYASQHyADsBBwFDAeYA0ACUAGoAOQFUAf8A4gA7Ad8A9gC8AGkBjwCnAGoBdABVARoBgQCVAPcA8wDsABkB/ACpAPkADwGDAKYASgGbAJUAcgFsAZ0AeAFpAQEB6gAqAWsBbwHeAKQA8ABUAaQApwDGACUBRQFBAf4AnwDWAN0ANgFNAZkAhgEHAfkAxwA1AW4BqAC/APQATwEOAcQAfwA6AfQAlQDfALAAtQCnAJoA/QBMAYcASwHkAEsBBgEkAesATgEHAc4AJQHgAMcA8wA9AQIBtABDAbYAigBPAS8BowDDAEcBoABFAWABmAAWAYcAwQByAKEARwEXAaEAowACAZkApAA8AVQB4QCmACQBhAC0AOEAFQEBAU0B1AAvAZUAtwDNAI8ASwF8ADoBkwAGAW4BHgGEAOUAIAHrAGwA+wDZABUBywDlAOYAvgAcAe4AmQDKAK0ArQArAXAB6ADhAFMBJQEEAesAvgCJAIEA6gD+AEwBGAHMANgAuwAzAWwBzwCyACMBXAHyAMcA5ADHADcBlwCNAL0A2wDVAMwAgwCxAAEBdQC0ADUB6gDnAK4ACAEyAUUBnQBuAWgAlQCVAAABmwApAZ8AjgAaAUYBsQAYAfwApADSAJgAlwCgALgAggEZAfcA0wD6AIIAxACYAE0BGwEtAV4BJAG0AFwBgAClAKkAWwGyANUA8ABxAYUAEAEMAWIBtgDqAA8B6AAKAcQAVgGFAM4AVQEdAXUBJQHvAHAAqgAIARkB4wAKAQABhgCJAF0BFgESAb4AqwCTACMBpwDvAB4BhgGiAP0ArgCPACkB7gCIAMAAkQBuAW4BJAHtABMBPQECAZ4AuACmAAUBAgGzAPQAyAARAVgB7QCbAIEAYwF/ADUBBQFQAbAAagF5AXoBOgEaAWEBiAByAAsBxgA+ASoBLQGsAMsACgEWAQkB6gCeAH8BgQCcALMA8gAYARIBGgGZADwBmQAoAcMAXQGZAJ8A7ABSAcYASAH9AH8ACQE9AcwA2ACoAPgAGAGKAOEAWQHzAJAAQAF7AAEBLAGjAEQBkAC3AI8AgACKAP4AHQH4AF4BtgDeAGQBNQHQAAgBnwAOAagAvAD4AGABXAGIAK0AOgGhAPIArgCKAMcAogBYAaEAiADHAD0BhQCDAGoBnwAIAbEA5gD3ALAACQFVAaUA6QB/AcgAMwFbASkB1gDtAL0AuQD1AIUB3gC1AH0BEAGkAMYABgHMAHABoQAbAUQB1gDWABQBTQEVAU0BogCIAOMASQFWAXUBtQAlAV0BcQCsAKQAzADgAGYB8gDhAKsA0AAkAdwARgHiABcBbACGAOoA8gDIAE0BHAGrACABegEzAaQAWgEaAT0BNQGeAL8AFAGmAN8AIAEAAcIAmAB9ANUAnABPAfQAPAH2AFoB2wCKAGQBowBSAYAAJwFeAeYAgwDkAJMAGQGBAOIAZQBtALoA8ABDAQQBawEcAUABFAGbAJ0ABgHFANwAkQB+AegAzAAgAU0BwwC2AN4ALgHiAHoB3ABFAeMApQAHAR8B+wCCAFUBYgGsAHUBJwGuAK0AKAHDAJ4ADgHBABIBXQGoAIcApABqAWABBAEtAegALgEsAcIAIQHRALEAdQGAAGUBawG0ADgBqQA0AaAAUQHQAOQArwC1AL4A5AA2Ac4A3gDnACQB1QDbANAA7QC1AN4AlwDEAN8ASAEqAccAggCDAH8BtgDGAIEAIQGvAEEBKgErAW8BkQCfAAQB6gC/ABABjQAOAYoAGAHqAGsAEgEoASsBfQDUAOgALgE4ARABTwHRAFYBOwHfAL4ALgGPAP4A4QCvALEALwG/AKUARAFJAc4ARQFPASwBowB7AB0BywCqAKkAzwA/Aa4AmQACAdcAIQHgAHEA1AAzAYEAZQF8APcA1wANAe8ABgHVADABcwGfAFwBiwCXAMMAJwGdAAcBEAHnADYBBQGuAOkABgG0ALYA5ADmAFoB/ADWAIAA2ADKANwAhgC8ADEBMQHUAPAAuQAaATAB3QAHAQ0BxAAJARkBigAuAX8BmwCJAF8BNAFiAQgB4AB+ACQB9ACtAMkAiABBAYsAHwHEAB0B3QCpAE0BwQAzAQkBxQChACwBcQBEAY8ALQGxAOwA9wBaAdIANgFsAAgBwQBbATgBtwA5ARMB5AABAf8ADwETAe0AzwDYAIUAhABmAY0A0wCaABwB/wAqAccAvQAiAcIAZQDEAJ0AbQHVANcAYQGFAAYBGAHWAF8B+wC0ALUA4wBYAd8AOAEbATwBlwB4ABgBYAG/AHMBhQCBAJMAEAFmAV0BGgEEAbMAqgDzABYB9QDXAGcAFQFhABkBBgHjAKMAFwH0AAwBwwDvAD8BBwHpAL4AtgBtAY0ACAFKAYIAMgEzATkBOwHlAMAA2QBCAe4AwACaAMsA0wC3APwAHgErAXwAmgAmAcoABQGzAP0A8gBUAZsAuACrAEMB1QDuACEBGQEXAakAgQAMAXUAtQDlAEQBmgDqAI4AsQAMAZoA4gAjAcgA3gAcAfMALgHOANgAagEQASoB/AD+AIsAHQELAcIA5wDiAE4BwQDyAJ4A7ADvANoAKgGSAH4BmAC2AAIBpwA2AQUBOQHYAO4AlABHAcYAtwB8AHAB1ABZAaYAbQHIAAgBDgFqARYByQCIAD4BWwGXACgBCQHMAGwBPwFqADcB/wADAakA+wBXAdYAfACEAN4ALAHmADIBeQFKASEB2QCXAPwArgAKAcQAkwAfAaEAAQGzAJcAQwFgAcQA2wD5AIAAMwH9AGkBfQAHAb8A7wCEAYQAAAGFAAIBHgFiAcoARgFOAS0BFAHoAJ8AvQC0AEgBkAB3AXcByQClAM4AdQDsAAYBuQAGAZkA/QC7AMMAzQCbAJEAhAGnAPoACAHjALwAqwAUAWoBowCYAK4AVwHFAOYASwHQAOUAgAAPAVgBiQAdAXMAWQG4AO0A5QCbAGIBSAF3ANYAAQGhAKkAdgFLAdIAvADYAIYAvADyAOkAuwDUAOYA9QChAJIAQQGIAFwBNgEaAT0BHwHUADYBzgCDAD4BLQETAeYAlACKAI0AvgAOAawABwHOAEsBAQEMAZwAxgDrAKwAjwBxAVoByAAKAYMApQCSANQAvAA8AdMA4ACoAAgBiQD9AE4BOAGXAJoAzACcAO4AqgAlASoBQAHQANYA+gCWAF8BEQHqACkBjQBMAf8AFAGEAPkAvQAhAa0AAQHoAFUB1AD2ANUA+gDLAGcBNQFnAc0AGgF9AJMA4gBrAQ8BjQCZAP0AcAHyAFQBlACrAHEA3AD4AOkAGAHYAOkAdAHdAG8BnQBLAasAJAG/AJUAZQGpAGEAOAHDAF0BOgHqAA4B7QBzAXIBlgAAAfkAiwA8AeAAAAHeAGUBXwGeAJUAnwBhAegAmAAuAW8BpwATAVcBAgGcANcAzAD+AEoBdQA/AbEAswC5AIgAngCOAAMBgACCALwAugBHAc4ASQHgAJgAGgEnAWcANAFqAAoBIQFqADABOgH+AAsB4ACqAMEApgD1AJ4AYAEsAUYB0AB1ASsBKQGQALwA2gDQACgBeQCnAJoAbQDwAHkAPwEsAUABEgFKAbcAfgCtAJ8AJgGaAIIAsgBCAQMBhgCiAIYALAH8APwAGQF4ABQB0wCpANsAiwAVAWMBFgHiAP0AOwF+APMAtQAsATsBaAHwAFgBmACBAKAA/QBrAcMAcADAALAAmwA3AdUANQHJALIAQAFsAa4ADQF6AG4BcAFVATkBKgESAcEAkADZAB0BUAHxAOcAqgCxAOoAaAF7ARQB8QCPAH4ADQG+AKgABQEOAboAqgDzAFUBcgAaAQUBZAENASUBnQC6ACoBvADfAPEAtACTAGYBLAFMATUBpAALAVEBrQDBAEwBDwEeAdUAfQCGAO8AXQE3AY0AewFkAZQApAAsASgBtgAaAQYB/gAQAXsAFQETAUUBzAB+ACsB9QC0ABYB5wAzAdQAngCQAC0BBAFHAdYADAFSAR4BYwHyAJIAmwBJAbcAvgCXAG4AVQFkARoBsgDoAGsAwwAWAcwA0wD2AP4AlQCDAC8BhACdAB8BogAQAeQAuwChAD8BWgHCABcBhgDZAKgAvwCsAAYBAAG1AMoAAQHcAHMBaQGGAMwAvQApAdwANAGuAK0AsQAmARYBLAEFAdoAhAF/AKMAogBvAV4AtgACAdkAjgCuALEAlgDGAIwAsABLAS0B3QDlADQBiwB/AOMA+AAQAYcAqwCRAEMBAQGsAKUAcAFyAMcACwGhADgBhwCYAPsAWgGkAKwACQG0ALIAogDSAMsAswAzAcEAXgFKAdsAmgBxAfYADAF8AV8BJgElAYgALAGvAHEAzgCNAOwAhADXABwBDAHaAPgAkADCAA8BOwGiAIkASQETAdIA7gDOAPUAVQHkAPoA+gCaANUASwGwAKoAWgHdAGIBqgCnAFgBrAAVARcBLAFqATUBKQH9AEcBLAFTAZgANAHjAKIAaQAUASYB5QBGAb4AVwF6Ad0AqwAEAR8B2QCFADUBggCDADkB3QDLABYB6wAxAcEAogADAbYASgHoAOMAxwDjAM8A2QAgAbAA7QCAAFEBGAGjAMYAIQEUAbIAmgALAdEAPwGPAEoBwAByAe0AGgGCAbsAmQB/AOQAVwFBAZIAzgDWAPIAuQBcAS4BxQCjAIwAQgFEAZUAzgDYAPoAZAAYAcUA+gBvARcBuwCWANEAIQENAbgAigC0APIAxADCAH0AdwARAcYAPgHnAE8BrAAtAXoBjAD+ACQBHgEuASgB4wDKAIgA2QBQAQkB8gCbANUApAAGAVkBnwCnAPYAAQEWASkB8AC7AMEAGgFdAbgAowCQAOsApQCuAHsBBQF+AcAAMQEHATAB9wDzAH8AuQCQAIwAQwGVAA4BngD9ABgBowDuALkAXgGfALcAAwHOAFIBuADtABgBogD+ADEBPAF6Ad8A1gC7AAEBCwGiAPgA8AAoAS0BAQGjAKAAjQCYANsApwDCAKMAzgAhARMB9gB4AZsAIQFIARsBzAASAS0BkQC9AAsBAQGpAMQAcwCQAOQAGAFgAesA2wAhAa0ArwBpAUoBhwALAYABgwClAOIA7AAeARgBVgF8AR8BmQBDAQ4BngAHASkByACzAKgA+wAqAZwA8ADYAEYBFwG+APcAjAD/AMIA8wAMAT8BXgEvAewAoQDCAMoAKgEaAeAAuQAeAfcA+ABQAbgA1AATAbEArgD2AAUBCgHBAKQAywDkAPkAIAEzAZgAuAC2ACUBxQAIAXsB9wAIAYAA0gDxAPsAGAHFAJUAjADRANgA0wAeAawAMQEWAf4A0wDJAP0AbgGEAMUAjgCeAPIAxgAUAaIAJQGJADQB9QDlANIAGgHXAKQAFQEBAYUABwEoAeQARgHiAK4AQgFIAXEBpQASAdMA4QB1ALkAKAFaASYB9gACAfUAIwE3AU8BqQBjAa4AmgAuAfAAKQEcAS8B+QAvAesAQwHiABQBWQG+AIMAjgDqAMAAtAD1AAYB1wA0AQcB6AAHAeQAvQBtAYAABgGnALwAfABcAYAAiwAxAUEBnAACAaMA8QDOAMUAOQGpALwAbwCbAKEASQGzAIwAMQH7AJ0AlAAsAYIAqgBSAckAkgAKAQYBqQDvANgADAF/AAYBYwHkADcB9wAzAUMB7QDrAL0ApQCBAKwApACwALMA8QCIAP4AeQDnAHEB7ACBACcB6gB5AQkBwQCnAJAAhgCdANgAeQGVAJYA4wCSAFoBjQDOAJsAgAHaAPQAzgDQAJYA1gDwADQBkQCEAK0AhwD5AMYA+gCNAEIBqwAnAWkBgAATAXsB/wBdAfoARAHiAPEAnwDBAEsBOgFEAWsAtgDxAKsAwQDYAHwAXgEzAcEA0QBRAd0AIAHVAAMB4gAqAXwB7QCtAPwAZwGEAGQBFAEqAZcAMAHKAEgBjwAlARsBPQH+AIYAEgHMAAwBuQCQACoBvwCKAM8AkgCQAHEARAErARMBYAGmAJwArQDgANcA1gBqAQIB1AC4AOMApgBeASIBzgDbABUBAgF3AR4BkgAgARkBmwAaAaEApAD5AJAAsgAgAZoAgQCRACoBBQH/AK0AswCtAPUALwGVAKwAXgFCAfYAwgCaAMcAcQAfAbwA+wBHAZAASwH7AIIAwgDNANUAvACyAGEBjgA1AccArADwAPEAEwFNAXcB4wBBAdoAnwBxAT8BiQBZAcUA2gDoAM0AAwEbAZIAFAFVAeoAgwDQALMAdgGXAPwAhQCsAD0B7gCkANsAugDCAOUAlwCKAAMBbQHWABABfgAOAbsAegBwAcwAAAGkAHMBggAfAaIA3wDqAH8ACQEAAW4BOAHXABoBGgGnABQBmACbAKMA2QCiAAkBgQCMAHoA4QBEAf4A6wDVAIABkQCZAMIAtQCgADgBlgArASABXgGGADQBbQE7AdMADQHhAGEBJgH4AN4ACAGSANcAPQGnAPoAFgESAQUBmwCUAGEB1AAGAR0BjABWAWcBnQCaACwB/ADxAIkACQGGAJ8ACgGhAL0AHAFcAXYA0AAzAf0AIAH8ABYBGwH7AG4ByAAVAdYABAHGAJcAOAEXAUEBrgArAWAByQAnATwBnwBfAcgABQF7AR0BnwCjAPcA5QDEAD4BtwDRAMEALQE/AWUBcQG1AKoArACCAKYAggDyAGYBlACVAJ4ArgAJATQByQCVALkAlwCeALgA7gDeABABFAGPAD0B4ADkAC0BwgAAAfQA5gCZAOkAvgAzASMB9wDfAL4ANwG3ABwB2QCMAKwA3QBtAH4BtwBuAAIBqAAuASYBXwEyAXQAsgB2AVEB4wDHAPUAPAG2AOoArAB+ANQAJwGSABcBTQFEARABhgBkAb8AvAA7ARsBLgHPAH0BLgEuAdgApQDeAAoB7QBLAXgBrgCPAL0ANQH4AOMASgFaAc4AgwB4AKIA1wChAKsAJgHcALYAPQHaAH0AbAG4ANgA9QAcAYoArADcABYBRgEpAZQACgFPAfwAzwB2AbcAMAGQAAgBFwGFAQMBGAFhAb0AjgAEAQ4BrgC5AH8AsQCxAKQAEQHpAFUBgwAgAR4BVwEgAfQAowBWAdMAbgF6APkAgwB4ARwBugCJAA0BsACJAKEAHQHhALwAIgEWAaQAmgB9ALQAeACEAO4AgwAFAYUAzQCHAKsAPgHCAMgAAQHWACkBlwC8AIgA2ADLAMIA/wBBARsBvADdAIwAvADrAMEAugAaAYkAkAD7AIgABwGMAKUALwGcAIIADgHTAEEBGwGVAKYA5wCWAJkAzwCwAP4AgACFAKAA9AB3AQoBKgEYAcsAywAqAZMAkQCWAJQAmQCOAOcAvQDKAGcBcgD3AO8AmQC8ANsAkwD0AOgA+wB7AZEA+QBbAaEA+QBkAWQB1AB5ASEBEAGPAEsBagFRAeoALAHEAOsATgHMAP8AYwG+AMkAbgHGAF0BAAGuAOMAbwElAUYB9QCYAGUBKQH7AP8ACAEGAZYA4wDkAMQAqAA3AcYA1AAkAdwA2gCkAPAAHgF5AAgBugC2ACEBRAG/AAMBOgHMAIMAOgFkABsBIgFeAeoArADWAN4A+wAXASYBnAC0AMAAIQH+ANUAsABvADAB9gA7AZ8AFAHxAJ8AeAG4ADABYgGsAKYAlADJANoAKAHfACwBTAHDAIkAiAAcAaIAOwG+ABsBJwEtAQgBUwGXAPoA3QAFAaUA+AAdAWUBGwGwADYB6wA8AQ0BmADYACQB4QA2AYUAgADuABwBBAGHAJEA5QBGAdoA6wByAEwB4gArAcEAPgHhADsBCwF0AVQBEQEqAaYAJQFoASEBpQD9AOsA2QCvANsAuQAsAc0A0ABLAYcAZgHsAAUBXQHzAJkAKAHoABYBIgEQAX0A7wCNAIAARAF2AIsALwGyACMBFwEXAXAAegDLAPsAdgCXAKcAwQCqABkBjgCGAfUA6ACMAJMApwD4ANsALQHEAFUB2AB3AL0AIAFoABkB5ABjAQEB+gDmAAIBowCTAMMA9ACBAOMAuAASAdMAHwHSAL0AKgFLAQIBKgEZAXQA5wBSAZYABQGUAH8AGwHYALYAgQEbAZ0AgAAyASYB1gC0AMMA5QCUAB0BAwGJAH4AuQAbAW8ALgGLAJ8ACgHSAAYBNQFbAVcB3gBhAX4AJgHgAOsArgABASEBoQC5ADQBcwC5AKQAXAGPAEsBpgDlAN4A8wDgAJkApQDbALMAFwF5AZAA1wDHACQBnAC6AK4A/ADFAOcA7QAVAeIAuABUAf8AYQF1AWYB1AALAaoANwHvAP0AEQGyACYBcQHaAJIA+QCqAD4BlAC1AGoBzgCqABgBjQDcAIcAegFsAOQAdQBvALkABgEdAQgBgQDVAI8AIgHsAKsAFQFBAfgA2ADcAFkBPQEjAW4BgQDmAMEAwQDyAJkA5wDtADcB3ACzAHEBBgGiAKAAfQCQAKMAvwC7ALYAYwH2AD0BZQG0AHMAcAFaAQMBCwFyAL8AJQG2AIsAvwAKAVIBigDTAM0AJAGMALkAyAD7ABgBJgGsAD0BAwFqAIAAugCMAEIBEwEyAZ8A8AASAZQAEQEzAbEA9gACAbsA9wC9AKgAOgFOAcsABgHvAKoA5QA7AdMAYgFFASIBHwFYAVkBVgHAAPkAjQCsALQAjQABAR0B6ACeAIAAyQAwATcBOgGzAO0AtwDVAJgAhAAcAekAkQBJAaMAOwFTAZMAcADhAKIAAQGmAA4BhQAaAbIAUwFKAf8AmADsACYBagEEAdsAsgB6AR4BvQDxAO0ARQF/Ae4AeADBAO8AVwHiAO0AuQCRAFYByADsAJ8ALAHjANEAqgCbADIB4QAhAcMAlgCqAM4AwgDpALAAEQFnAVYBrwBWAc8AzQAVAcAA9QDqAFUBCgETAQIBVQGRALAArQApATMBtgDCAIwA7ACTAAcBOQEbAcUAjwCXAIoAGAGUACABhABDAeQAkgCaAPsAPgFiATQBSwHxAOsAEQGOAGQBfwD8ALYANQHhADABeAGoAJ8A7ADzACcBOQE5AZQAbAGTAE8BxwACAcIANgGaALAAyQCHAEMB7gCiAMgAVQEuASYBMwGuANcAdwAxAQIBNQExAZsADwFHAY4AowBBAXwAUAF5Af0A9QDEAHIBuwAhAbIADQFAAZMAewAaASwBLQHYAJYA6gCGAIEAxQCzAI4AJwHeAK4A5AAIAdMAPQG0AHABDQGQAMYAZgHgAMMAlABFAfoApwD4AAsBqAByAXsAGAGOAIcAgwACAbgA0ADaAIIABQH9APcA3gDBACEBzwALAeMAugC9AOsAogD7ALIAAgEUAZwA2gD4ADABcQB1Aa8AfQB0AR0BHQGxABABDQGfAOYAtAD/AOsApADBAK0A5gAUAfAAdQAeAbAA9AAIAawAHgHQAAUBmQB8AOgApwDVAAEBuwBDAe8AFgGpAGUBdgErAboAngDMADsBrAC1AEABhgAeAZ4AvgBhAU0BQQHiAD8BdAEFASABHwH9AP8AxgCEADABnwAUAQwBzACFAHkBaADmANkA0ADvAFwBfwCiAKAA+gAUAcUAbwG0AAUBGgGTAB0B2QA+Ac8AdwGwAFIBZQEgAdsARAGeAN4A4ADvAFEBwADYAI4A4AAgAdcAqwDhAGYBrAArAVoBxgA/AXcBvQCPAOEA+gCZAI0AiQAxAbcAdAAVAQQBFgExAUcBEwEsAT0BjgCBAI0A1wAjAcoArwCrAF4BdgEuASkBwAB2AdYASgEfAcIAtQDiADsBYQFxAfAAhwAGAQIB/QDmAKQA/wC3AF8B3QBeASsBCgHmAAwB8QCsABkBmQAKAQcB0gCJAQsBjADrAK0AyADwAJAAXAGQAK0AegC6ABoBhgAtAaMAzwDfAC0BfAC3AIAAnQA1ATMBqQCaACIB4gDeALsAFQEAASkBtACNAIEBQgFLAdkAAQGPADABwQA/AawAMgELAREBrABzAcYAfAAzAY8AOAHkAHABDwFrAdMADgGoAJkA0QDpAHQBugC0AFEBmgB3AToB1gAwAbcAzwCtALsAAQGkAHABAwF4AE8BmABkAdgAfwCgAPwA7QABAQMBFQH6ALQA6gAkAdIAwQAAARYBSgGqANUArAChACABbwGbAG0BLQHIAEYBegAXAesAnwBsAZwAtACSAPgARAHMAKMAEAFwAWIBDwEVAYgAegAyAW8BegGPAJEAiQBbAa0AewE0AbwApgD/AKsAZQGxANcAGgEYAYwA8AAcAXoAHQFLAeoA6gDrAJcARgG5AOgAZAEbAc0A3ACjAC0BVQGVANQAbgD3AEgBdQFxAOsAdgGTACMB/gCvAGoBjADuAB8BqwC3ABkBdgH1ANEAYwEeAYcAAAEoAf8ABAEkARIB8QBJAUsBVgGBAFgB5gAtAZQA0gBHAZgAlgA+AfwAngC7AKYAeQGpAO4A8QDJAHkA4gCPAL0AtgBzAc4A/wBpAbUAsQDBAB0BgAEhAU4B8gBNATwBNgGqAFoB3gD0ANUAXgGZAJkArQD9AO0A/gDVAOwAAAGgAJ8A9QCGAAsBjABUAY0ATAH1AEcBigGwAK4ADgErASgBNAHTANwAYwEUAccAigD+AAYBgAAXAQEBzgCSACoBfwBlAXUAmAArAVQBpwDAANEAgAAuAUwBigAdAX8BagA2AWcB+wAzAUIB2gD1AM0ALgFvAGIBHgEzAUUBSQGWAB0B1QAYAcYAdwDuAGsBsQCMAKwAFAGAANUAyQApAaEArwA7AYIBogDIAAoBMAEqAY0AxACtAFcBfwBEASABqACYADoB3wC3AHUBIwHnALkAVwHFAJsAcQHVAPMAZQACAasAAAH3AM4A2wBtAI8AowCZAGYBhgAsAYoA2gACARoBDwHQAKMAJwGBAawAxAA5Aa8AYQAFAV8BxQB7AJkAOAGPAAcBCgFrAW8B2wARAY0AigC8ALQA/ABnAfgA/gALAbcAKAHpAJIAvgDfAEMB5QDHAC4BKAGfAKwAdwB7AHgArQBzAJMALwEZAfAAywD/AJIAiQClAC8BMwEQAZMAlwC7AFIBdwArAd8AgQCRAIIAzQAGARcBkwBBAWAB+ACgAOcAYAEmAd4AtADFAKgA1wCkAFsBpwAyASsBogAjAXgAhQCnAEEBMgFEAXQAoQCGAFUBMQF4AXAAeAHKAEIBAAGTALIAegBTAW0AsQCgABsBCQGBAKsAkAB+AIUA8ACAAOMAtwDxAOYAdgHfAPUAcwF7AJEAGgGTADYB8wDIAPQAnABVAUwBeAD9AOIAlAAKAZUA6ABqAcIASAHMAP0A8wDwAG0BBgH5AMEA/AC5AE4BDAEFAfoAmACtANkArQABAfkAEQG6ACMB7ADsADsBIwGaAJUAfwCSAAAB9ACbABABnABWAQoBpQBWAYEAjAC5ANEAeQCqAIAAQQEOAQQBxABYAa0ARAF6AXYBEwE9AUcBxQDxAL0AAAGuACABowBkAWcBMQEdAWABSwG5ANoAPQEOAeAAPAH7ALkAEAG8ADABbQE6ATgBCQGqALAA9gB3ATABJQF4AX4ASQHoAO0ApQAFAasAhQDJADYBzgAiASoBHAH/AFEBbQGVAEAByQAOAT4BuQDNALQAZADHABYB1wCBAIMA+gC1AAcBbwCaAC8B5gB9AHYBQgEBAdMA1wDTAA8BqgCrAMEANwF1ANQAuwD8ACQBlgCzANsAkABsAHcAswDgAIAARQEOAR4BQwGLAJwAdgH1ADoBbQGdAI4AJAEiAXIBCQH5AE8BmwDAAFoBhQAwAW0BdAAcAYwAwQC/ACcB7wCaAJwAJwF8AaUAdQByAWYBugDAAEsB9AAiAfoACwH5ADMBUQHkALkASAGjAHgBAQFJAaIAmQB7ACUBsQBgAQ0BlgAGAQoBwAArAQ8BQwFwAbMAGQGyAM4AoADRABMBOQECAacANgHKANUAJAEzASsBqwCBAWkBpQBRARUBigA4AaYA/gAOAZEAGQHmAEwBhwCLANcAIgHNAPwAugBAAQsBlQDRADMBHQFRAeEAMgG9AKAAXAHaAJMAewCvALkA/QAcAZcAgwALAacAPgErAQ8BxwCUAOIAEQH2AB4B/ADyAOwAxADMALAAqwCdAEsBogA/AToBlgAsAQIB0wC4ACABHQH1AIgAggCDAF4BrgAjAS8BtAAmAQkBFAEPAdYAigCWAOMARgHxANYAtAB7AKMA7QBYAeYAuwB+AMIAVgGyAC8BhQCvANQAqgCDAIoAfwA9AVwBTAEzAVkBXgHtACgBDwFoARcBuwC8AJsASQFjAQcBowCvAHsBNgH0ANcA6AAJAfYAkACrAD0BhACjAEsBxQAKAY4AMgGRANYAIgGtABsBtgAdAf4A/QBsAaYAoQAZAa0A4gAAAX8AjgAOAWYBugCzALgACwEaAREBYgF2ASkBbwD1AEMBvwCjAJAA1QB6AKYA+wD4AMgAoADQAOsABQHKALAA8wAaAbYAEAGyAMkAJAGXAMYAlQClAFsB4ACtAK0AIAFNAbkAjwCGAHIBuwB9AEEBbwCZAGsBngA1AVUBjQClAAoB6ACrABUB9ACXAEsBdQG7ACkBkQDiAOwAyADoAOwApgCjAOMAFgHkAB8BxQA3AUwB9gC1AHAA9gBHAaAASQFaAaoA9AC1ALYAEwHDAMEADAEEAe0A2gAbAbsAlwB3ATkBkADrACcB7wD3ACkB3QAqAdMAnQCdAMIAuACVAIMA/QBKAWoAFgEKAVcBkwA/AakAkQCnAJsAogCXAAkBeAGXAIEAfACbAAoBAAFBAYQAkwAiAaoAogCmAMMAOQHHANIA8QC/ALUATwE0AQ8ByQAPAZQACQEIAZoAmwAnAREBJQFpAXcBPgEQAfAAeQBvAVsB7gC2AO0ASQFGAYAB9wD7ALIAsgC5ALQATQGfACIBLQEwAZIAogABAfYAhADMAO0ATAGLANgAtgC5AA8BfQB0AdoA1QAsAf8AgACQAFwBoQBoARcB9gCuAGABQwFFAfoAkAA4AZgAEQF7ADIBNgHdANMAjgCnAMoAiwCQAKYAcgEmAaIAsABrAAwB1AAfAW0A4gApAW0BJgF+AH4AzwACAeYAcQHHAKcA/wD0AAoBGwHxAKIAHwH/AP8AFQGlAMUAngBzAIcBjACzAO4AtwAcASgB0QB6ASgByQAdARUBYQHSABkB+gDDADMBBwEyAesAxABeAdQAQAGaANsA1gDFAOgAsQDKALgAogChAJcApAAuAbUAMQEKAUoBPwGAAH4BywAmAUQBEAGiAL4AUQEQAc4A5wAXARwBZAA6AbAApgBhAU0BGgFyASUBvADYAOEA9AC1ACUB+wAkAcIANQFoARwBsQBCAZUAIAE7AUMBjgAeAZ0AdACuABQBsAA9AfAATQFnAHEBmwCiACIB1ACmAF4BwADkAOAA1AAyAUoB8QA0AdMAqABgAOoAKQEWAU0BXwHpAKcAugB0AeEAywBSAS8B1gDCAJUACQHFAJIALQGWAC8BDQGCAEwBrgB3AZAAewCsAAcB3AAbAUkBhwFVAc4AZAHiAC8B/QBeARYBogAaAWoA4gC0AJQA/AApAb8AYwAzAVABCAH1ACsBdQHGAJYAfwHsAJYA9gAFAf0ADgHbAAoBHQHTANEACQH3AK4AAQE8AZMA0gC1ALUAUQEZAYYANgEMAZ8A3wD4AI0AwgB4AI8AkAARAcoA1gCXAPAAAAGRAHkAkwCKAMoAdwBkAZYAJgFDAecAewAwARcBqgAIAQYBiADtADoBLwGkAN0AJAE3AfkAqACUAPkAfgDcABgBaAFCAWwBpQB4AK8AcwF6AFcBWwEpAbAAfAG2ABgBrQBXAXAADwHvAE0B6QA1AQcBiABsAZgApwBcAZoAlADeAOQAPwGIADQB0ACyAKQAmADKAP0AXgEKAYwAzAAvAZ4AnwDMAJ4AfAG1AK8AIgGhAMsAIwHmABEB4wDbAOIAPgEEAaMA1gDoAAUBGAGPAIEAgQDVAEcB1gB5ANIA0AAmAZIAsgAlARkBBQFoARcBGAE3AZsAmwBtAHsB5AA1AbkAnwDlAGcB7AADAYgAzACjAMUAuQDMAPoAiwCvAGUBkAAZAYUAowBdARgBigDYAAMBPAHIAIYAWgGNAIwAMQH8AJAAZAFvABIB7QDKAJAA3ACdAKcA7QA1AWYB0QBSAX4AmwCHAA4B6QD9AEgBzAASAeEASgEnARwBkACHAKkA+gB4ANkANAGFAFUB0ACAAAAB1QCuAC8B/wCuAPMAzwAyAW4BcwByACYBfwApAXAB4gDKANEAAQESASwBXgEWAdwAfgAqAWEApgCMANwAcQAcAZIAcgGXAFABhgCrANUAvQDyAHkBAAG0AAgBDAFrAQUBnQD4ACUB6ADTAJ0A6QBJATYBRgGqAKMApQAEAX8BuACfALgAJgHmAI0AxwChAIkALAG7AEABzADiAOoA0ACRAJQAeACTAPgAugDDADMBHgGhAFcBXAH/ALcAJgGpABcBbwDJALkAUQFoABoB+QB4ADoBCAHrAJQA8AD7AOcAHgE7AToBkADxAFcBmwD+AKAAvwClAJoArAD3AKoA9gCGALoA8wDNAFEBfwCOALIACQHbAAMBUwHwALQAOQG9AJ0ApgC8AK8AtAAuAdAA1gCtAH8AFwHGAP8ArADsALUA2wBZAZ0AqQBOAQsBEAFaARUBtwCVAE4BpQAEAQ8BLgEAAdoAvADJAC0BGgGFAMMAUQFPAS4BrQD1ADABtAC4AAsBLQEMAWcBIQEHAQYBUAE6AW0AqAA9ARkB3wAWAfcAbgAuAZAAlABvAIAAPgHdAO4AVwFxAMIAVgHkAOgALAF2ADYBnACKAD8BggCCAAQBhAB6AMAA2ABBAb0AKAG5ALsAfwHuAJMADAGMAIEBRAGMADIBrQCjAEgBPwEvAe4ANwGAAKMA7QBgAdMAgQAlAcUAWQHNAE8BLgFtASYB4QB7AJYAdAEuASkBlQCeAI8AdABhAeMATwFVAa4ATwFeAY0A4QDtAC4BHgHLAGMBAAEIAd0AcQHnAMAAOAEvAW8BsgCVAEcBAwH9AC8BXgHmAJYAwQC5ALoAEwGMAOoAEgGXAHsB5ABhAU0BngDDAFQBHQG9AIQAOAG3AFEBngDOAMwARwEdAZUADQEMAZAAYQErAQgBGwF/ADAB2gDfAI8AEwGOANEAUgEtAVoBiQAbAQ8BmQDSAKgA1gAcAUQBuQDgAEUBEgG0ADgBrADGAFAB8QCFAI8AcQHJAJAAzQCsAJ4AlgD6AIAApgCcALcA+QDAAJEAnQCsABMBRgGMAKsAdgEuARABWQHmANcAKgH6AJ8ALQGkAIgA6wBtAUoBswAKAU0BNAHRACYBrwCWAP4AgAARARYBxACFAA8BuACEAEwBJAEkAX4ALAEIAU0BzgCEAQgBrgAVAbEAiQC9ACMBjwDrAKkA4AAGARIBZgG/ACUBMAEEAVIB9gD7AKMA0gAXAZUAIwGKAB8BEQFcASwBaQH8AJoABwGKAPgAdAA+AWUBlwAzAUIB5gCRAHgBhwAtAd4AdwF5AbcAWwEUAWUAdAHZAKgAXgE4ARQBsQDWAJsAwgALAXUBpgA=",
          "dtype": "i2"
         },
         "y": {
          "bdata": "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",
          "dtype": "i2"
         },
         "z": {
          "bdata": "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",
          "dtype": "i1"
         }
        },
        {
         "marker": {
          "color": "purple",
          "opacity": 0.3,
          "size": 2
         },
         "mode": "markers",
         "name": "Mask 2",
         "scene": "scene2",
         "type": "scatter3d",
         "x": {
          "bdata": "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",
          "dtype": "i2"
         },
         "y": {
          "bdata": "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",
          "dtype": "i2"
         },
         "z": {
          "bdata": "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",
          "dtype": "i1"
         }
        }
       ],
       "layout": {
        "annotations": [
         {
          "font": {
           "size": 16
          },
          "showarrow": false,
          "text": "Brain Mask 1",
          "x": 0.225,
          "xanchor": "center",
          "xref": "paper",
          "y": 1,
          "yanchor": "bottom",
          "yref": "paper"
         },
         {
          "font": {
           "size": 16
          },
          "showarrow": false,
          "text": "Brain Mask 2",
          "x": 0.775,
          "xanchor": "center",
          "xref": "paper",
          "y": 1,
          "yanchor": "bottom",
          "yref": "paper"
         }
        ],
        "margin": {
         "b": 0,
         "l": 0,
         "r": 0,
         "t": 30
        },
        "scene": {
         "domain": {
          "x": [
           0,
           0.45
          ],
          "y": [
           0,
           1
          ]
         },
         "xaxis": {
          "title": {
           "text": "X"
          }
         },
         "yaxis": {
          "title": {
           "text": "Y"
          }
         },
         "zaxis": {
          "title": {
           "text": "Z"
          }
         }
        },
        "scene2": {
         "domain": {
          "x": [
           0.55,
           1
          ],
          "y": [
           0,
           1
          ]
         },
         "xaxis": {
          "title": {
           "text": "X"
          }
         },
         "yaxis": {
          "title": {
           "text": "Y"
          }
         },
         "zaxis": {
          "title": {
           "text": "Z"
          }
         }
        },
        "template": {
         "data": {
          "bar": [
           {
            "error_x": {
             "color": "#2a3f5f"
            },
            "error_y": {
             "color": "#2a3f5f"
            },
            "marker": {
             "line": {
              "color": "#E5ECF6",
              "width": 0.5
             },
             "pattern": {
              "fillmode": "overlay",
              "size": 10,
              "solidity": 0.2
             }
            },
            "type": "bar"
           }
          ],
          "barpolar": [
           {
            "marker": {
             "line": {
              "color": "#E5ECF6",
              "width": 0.5
             },
             "pattern": {
              "fillmode": "overlay",
              "size": 10,
              "solidity": 0.2
             }
            },
            "type": "barpolar"
           }
          ],
          "carpet": [
           {
            "aaxis": {
             "endlinecolor": "#2a3f5f",
             "gridcolor": "white",
             "linecolor": "white",
             "minorgridcolor": "white",
             "startlinecolor": "#2a3f5f"
            },
            "baxis": {
             "endlinecolor": "#2a3f5f",
             "gridcolor": "white",
             "linecolor": "white",
             "minorgridcolor": "white",
             "startlinecolor": "#2a3f5f"
            },
            "type": "carpet"
           }
          ],
          "choropleth": [
           {
            "colorbar": {
             "outlinewidth": 0,
             "ticks": ""
            },
            "type": "choropleth"
           }
          ],
          "contour": [
           {
            "colorbar": {
             "outlinewidth": 0,
             "ticks": ""
            },
            "colorscale": [
             [
              0,
              "#0d0887"
             ],
             [
              0.1111111111111111,
              "#46039f"
             ],
             [
              0.2222222222222222,
              "#7201a8"
             ],
             [
              0.3333333333333333,
              "#9c179e"
             ],
             [
              0.4444444444444444,
              "#bd3786"
             ],
             [
              0.5555555555555556,
              "#d8576b"
             ],
             [
              0.6666666666666666,
              "#ed7953"
             ],
             [
              0.7777777777777778,
              "#fb9f3a"
             ],
             [
              0.8888888888888888,
              "#fdca26"
             ],
             [
              1,
              "#f0f921"
             ]
            ],
            "type": "contour"
           }
          ],
          "contourcarpet": [
           {
            "colorbar": {
             "outlinewidth": 0,
             "ticks": ""
            },
            "type": "contourcarpet"
           }
          ],
          "heatmap": [
           {
            "colorbar": {
             "outlinewidth": 0,
             "ticks": ""
            },
            "colorscale": [
             [
              0,
              "#0d0887"
             ],
             [
              0.1111111111111111,
              "#46039f"
             ],
             [
              0.2222222222222222,
              "#7201a8"
             ],
             [
              0.3333333333333333,
              "#9c179e"
             ],
             [
              0.4444444444444444,
              "#bd3786"
             ],
             [
              0.5555555555555556,
              "#d8576b"
             ],
             [
              0.6666666666666666,
              "#ed7953"
             ],
             [
              0.7777777777777778,
              "#fb9f3a"
             ],
             [
              0.8888888888888888,
              "#fdca26"
             ],
             [
              1,
              "#f0f921"
             ]
            ],
            "type": "heatmap"
           }
          ],
          "histogram": [
           {
            "marker": {
             "pattern": {
              "fillmode": "overlay",
              "size": 10,
              "solidity": 0.2
             }
            },
            "type": "histogram"
           }
          ],
          "histogram2d": [
           {
            "colorbar": {
             "outlinewidth": 0,
             "ticks": ""
            },
            "colorscale": [
             [
              0,
              "#0d0887"
             ],
             [
              0.1111111111111111,
              "#46039f"
             ],
             [
              0.2222222222222222,
              "#7201a8"
             ],
             [
              0.3333333333333333,
              "#9c179e"
             ],
             [
              0.4444444444444444,
              "#bd3786"
             ],
             [
              0.5555555555555556,
              "#d8576b"
             ],
             [
              0.6666666666666666,
              "#ed7953"
             ],
             [
              0.7777777777777778,
              "#fb9f3a"
             ],
             [
              0.8888888888888888,
              "#fdca26"
             ],
             [
              1,
              "#f0f921"
             ]
            ],
            "type": "histogram2d"
           }
          ],
          "histogram2dcontour": [
           {
            "colorbar": {
             "outlinewidth": 0,
             "ticks": ""
            },
            "colorscale": [
             [
              0,
              "#0d0887"
             ],
             [
              0.1111111111111111,
              "#46039f"
             ],
             [
              0.2222222222222222,
              "#7201a8"
             ],
             [
              0.3333333333333333,
              "#9c179e"
             ],
             [
              0.4444444444444444,
              "#bd3786"
             ],
             [
              0.5555555555555556,
              "#d8576b"
             ],
             [
              0.6666666666666666,
              "#ed7953"
             ],
             [
              0.7777777777777778,
              "#fb9f3a"
             ],
             [
              0.8888888888888888,
              "#fdca26"
             ],
             [
              1,
              "#f0f921"
             ]
            ],
            "type": "histogram2dcontour"
           }
          ],
          "mesh3d": [
           {
            "colorbar": {
             "outlinewidth": 0,
             "ticks": ""
            },
            "type": "mesh3d"
           }
          ],
          "parcoords": [
           {
            "line": {
             "colorbar": {
              "outlinewidth": 0,
              "ticks": ""
             }
            },
            "type": "parcoords"
           }
          ],
          "pie": [
           {
            "automargin": true,
            "type": "pie"
           }
          ],
          "scatter": [
           {
            "fillpattern": {
             "fillmode": "overlay",
             "size": 10,
             "solidity": 0.2
            },
            "type": "scatter"
           }
          ],
          "scatter3d": [
           {
            "line": {
             "colorbar": {
              "outlinewidth": 0,
              "ticks": ""
             }
            },
            "marker": {
             "colorbar": {
              "outlinewidth": 0,
              "ticks": ""
             }
            },
            "type": "scatter3d"
           }
          ],
          "scattercarpet": [
           {
            "marker": {
             "colorbar": {
              "outlinewidth": 0,
              "ticks": ""
             }
            },
            "type": "scattercarpet"
           }
          ],
          "scattergeo": [
           {
            "marker": {
             "colorbar": {
              "outlinewidth": 0,
              "ticks": ""
             }
            },
            "type": "scattergeo"
           }
          ],
          "scattergl": [
           {
            "marker": {
             "colorbar": {
              "outlinewidth": 0,
              "ticks": ""
             }
            },
            "type": "scattergl"
           }
          ],
          "scattermap": [
           {
            "marker": {
             "colorbar": {
              "outlinewidth": 0,
              "ticks": ""
             }
            },
            "type": "scattermap"
           }
          ],
          "scattermapbox": [
           {
            "marker": {
             "colorbar": {
              "outlinewidth": 0,
              "ticks": ""
             }
            },
            "type": "scattermapbox"
           }
          ],
          "scatterpolar": [
           {
            "marker": {
             "colorbar": {
              "outlinewidth": 0,
              "ticks": ""
             }
            },
            "type": "scatterpolar"
           }
          ],
          "scatterpolargl": [
           {
            "marker": {
             "colorbar": {
              "outlinewidth": 0,
              "ticks": ""
             }
            },
            "type": "scatterpolargl"
           }
          ],
          "scatterternary": [
           {
            "marker": {
             "colorbar": {
              "outlinewidth": 0,
              "ticks": ""
             }
            },
            "type": "scatterternary"
           }
          ],
          "surface": [
           {
            "colorbar": {
             "outlinewidth": 0,
             "ticks": ""
            },
            "colorscale": [
             [
              0,
              "#0d0887"
             ],
             [
              0.1111111111111111,
              "#46039f"
             ],
             [
              0.2222222222222222,
              "#7201a8"
             ],
             [
              0.3333333333333333,
              "#9c179e"
             ],
             [
              0.4444444444444444,
              "#bd3786"
             ],
             [
              0.5555555555555556,
              "#d8576b"
             ],
             [
              0.6666666666666666,
              "#ed7953"
             ],
             [
              0.7777777777777778,
              "#fb9f3a"
             ],
             [
              0.8888888888888888,
              "#fdca26"
             ],
             [
              1,
              "#f0f921"
             ]
            ],
            "type": "surface"
           }
          ],
          "table": [
           {
            "cells": {
             "fill": {
              "color": "#EBF0F8"
             },
             "line": {
              "color": "white"
             }
            },
            "header": {
             "fill": {
              "color": "#C8D4E3"
             },
             "line": {
              "color": "white"
             }
            },
            "type": "table"
           }
          ]
         },
         "layout": {
          "annotationdefaults": {
           "arrowcolor": "#2a3f5f",
           "arrowhead": 0,
           "arrowwidth": 1
          },
          "autotypenumbers": "strict",
          "coloraxis": {
           "colorbar": {
            "outlinewidth": 0,
            "ticks": ""
           }
          },
          "colorscale": {
           "diverging": [
            [
             0,
             "#8e0152"
            ],
            [
             0.1,
             "#c51b7d"
            ],
            [
             0.2,
             "#de77ae"
            ],
            [
             0.3,
             "#f1b6da"
            ],
            [
             0.4,
             "#fde0ef"
            ],
            [
             0.5,
             "#f7f7f7"
            ],
            [
             0.6,
             "#e6f5d0"
            ],
            [
             0.7,
             "#b8e186"
            ],
            [
             0.8,
             "#7fbc41"
            ],
            [
             0.9,
             "#4d9221"
            ],
            [
             1,
             "#276419"
            ]
           ],
           "sequential": [
            [
             0,
             "#0d0887"
            ],
            [
             0.1111111111111111,
             "#46039f"
            ],
            [
             0.2222222222222222,
             "#7201a8"
            ],
            [
             0.3333333333333333,
             "#9c179e"
            ],
            [
             0.4444444444444444,
             "#bd3786"
            ],
            [
             0.5555555555555556,
             "#d8576b"
            ],
            [
             0.6666666666666666,
             "#ed7953"
            ],
            [
             0.7777777777777778,
             "#fb9f3a"
            ],
            [
             0.8888888888888888,
             "#fdca26"
            ],
            [
             1,
             "#f0f921"
            ]
           ],
           "sequentialminus": [
            [
             0,
             "#0d0887"
            ],
            [
             0.1111111111111111,
             "#46039f"
            ],
            [
             0.2222222222222222,
             "#7201a8"
            ],
            [
             0.3333333333333333,
             "#9c179e"
            ],
            [
             0.4444444444444444,
             "#bd3786"
            ],
            [
             0.5555555555555556,
             "#d8576b"
            ],
            [
             0.6666666666666666,
             "#ed7953"
            ],
            [
             0.7777777777777778,
             "#fb9f3a"
            ],
            [
             0.8888888888888888,
             "#fdca26"
            ],
            [
             1,
             "#f0f921"
            ]
           ]
          },
          "colorway": [
           "#636efa",
           "#EF553B",
           "#00cc96",
           "#ab63fa",
           "#FFA15A",
           "#19d3f3",
           "#FF6692",
           "#B6E880",
           "#FF97FF",
           "#FECB52"
          ],
          "font": {
           "color": "#2a3f5f"
          },
          "geo": {
           "bgcolor": "white",
           "lakecolor": "white",
           "landcolor": "#E5ECF6",
           "showlakes": true,
           "showland": true,
           "subunitcolor": "white"
          },
          "hoverlabel": {
           "align": "left"
          },
          "hovermode": "closest",
          "mapbox": {
           "style": "light"
          },
          "paper_bgcolor": "white",
          "plot_bgcolor": "#E5ECF6",
          "polar": {
           "angularaxis": {
            "gridcolor": "white",
            "linecolor": "white",
            "ticks": ""
           },
           "bgcolor": "#E5ECF6",
           "radialaxis": {
            "gridcolor": "white",
            "linecolor": "white",
            "ticks": ""
           }
          },
          "scene": {
           "xaxis": {
            "backgroundcolor": "#E5ECF6",
            "gridcolor": "white",
            "gridwidth": 2,
            "linecolor": "white",
            "showbackground": true,
            "ticks": "",
            "zerolinecolor": "white"
           },
           "yaxis": {
            "backgroundcolor": "#E5ECF6",
            "gridcolor": "white",
            "gridwidth": 2,
            "linecolor": "white",
            "showbackground": true,
            "ticks": "",
            "zerolinecolor": "white"
           },
           "zaxis": {
            "backgroundcolor": "#E5ECF6",
            "gridcolor": "white",
            "gridwidth": 2,
            "linecolor": "white",
            "showbackground": true,
            "ticks": "",
            "zerolinecolor": "white"
           }
          },
          "shapedefaults": {
           "line": {
            "color": "#2a3f5f"
           }
          },
          "ternary": {
           "aaxis": {
            "gridcolor": "white",
            "linecolor": "white",
            "ticks": ""
           },
           "baxis": {
            "gridcolor": "white",
            "linecolor": "white",
            "ticks": ""
           },
           "bgcolor": "#E5ECF6",
           "caxis": {
            "gridcolor": "white",
            "linecolor": "white",
            "ticks": ""
           }
          },
          "title": {
           "x": 0.05
          },
          "xaxis": {
           "automargin": true,
           "gridcolor": "white",
           "linecolor": "white",
           "ticks": "",
           "title": {
            "standoff": 15
           },
           "zerolinecolor": "white",
           "zerolinewidth": 2
          },
          "yaxis": {
           "automargin": true,
           "gridcolor": "white",
           "linecolor": "white",
           "ticks": "",
           "title": {
            "standoff": 15
           },
           "zerolinecolor": "white",
           "zerolinewidth": 2
          }
         }
        },
        "title": {
         "text": "Side-by-Side Brain Mask Comparison"
        }
       }
      }
     },
     "metadata": {},
     "output_type": "display_data"
    }
   ],
   "source": [
    "plot_two_brain_masks_separately(\n",
    "    paths_dict['brain_mask_combined'],\n",
    "    paths_dict['aligned_brain'],\n",
    ")"
   ]
  },
  {
   "cell_type": "code",
   "execution_count": 42,
   "metadata": {},
   "outputs": [
    {
     "name": "stdout",
     "output_type": "stream",
     "text": [
      "Best ventricle segment:\n",
      "{'width': 204, 'z': 17, 'y': 215, 'x1': 151, 'x2': 355, 'occupancy': 0.9170731707317074}\n",
      "\n",
      "Skull segment:\n",
      "{'width': 282, 'x1': 108, 'x2': 390, 'occupancy': 0.5618374558303887, 'z': 17, 'y': 233}\n",
      "\n",
      "Hydrocephalus check result:\n",
      "Evans Index: 0.723\n",
      "Possible hydrocephalus (index > 0.3).\n"
     ]
    }
   ],
   "source": [
    "results = run_hydrocephalus_analysis(\n",
    "    ventricle_nii_path=paths_dict['aligned_ventricles'],\n",
    "    skull_nii_path=paths_dict['aligned_brain'],\n",
    "    occupancy_threshold=0.9\n",
    ")\n",
    "\n",
    "print(\"Best ventricle segment:\")\n",
    "print(results['best_ventricle_segment'])\n",
    "print(\"\\nSkull segment:\")\n",
    "print(results['skull_segment'])\n",
    "print(\"\\nHydrocephalus check result:\")\n",
    "print(results['hydrocephalus_result'])\n"
   ]
  },
  {
   "cell_type": "code",
   "execution_count": 43,
   "metadata": {},
   "outputs": [
    {
     "data": {
      "application/vnd.plotly.v1+json": {
       "config": {
        "plotlyServerURL": "https://plot.ly"
       },
       "data": [
        {
         "marker": {
          "color": "blue",
          "size": 2
         },
         "mode": "markers",
         "name": "Ventricles Mask",
         "showlegend": false,
         "type": "scatter",
         "x": {
          "bdata": "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",
          "dtype": "i2"
         },
         "xaxis": "x",
         "y": {
          "bdata": "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",
          "dtype": "i2"
         },
         "yaxis": "y"
        },
        {
         "line": {
          "color": "red",
          "width": 3
         },
         "marker": {
          "size": 6
         },
         "mode": "lines+markers",
         "name": "Ventricles Width",
         "showlegend": false,
         "type": "scatter",
         "x": [
          151,
          355
         ],
         "xaxis": "x",
         "y": [
          215,
          215
         ],
         "yaxis": "y"
        },
        {
         "marker": {
          "color": "orange",
          "size": 2
         },
         "mode": "markers",
         "name": "Brain Mask",
         "showlegend": false,
         "type": "scatter",
         "x": {
          "bdata": "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",
          "dtype": "i2"
         },
         "xaxis": "x2",
         "y": {
          "bdata": "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",
          "dtype": "i2"
         },
         "yaxis": "y2"
        },
        {
         "line": {
          "color": "green",
          "width": 3
         },
         "marker": {
          "size": 6
         },
         "mode": "lines+markers",
         "name": "Brain Width",
         "showlegend": false,
         "type": "scatter",
         "x": [
          108,
          390
         ],
         "xaxis": "x2",
         "y": [
          233,
          233
         ],
         "yaxis": "y2"
        }
       ],
       "layout": {
        "annotations": [
         {
          "font": {
           "size": 16
          },
          "showarrow": false,
          "text": "Ventricles",
          "x": 0.225,
          "xanchor": "center",
          "xref": "paper",
          "y": 1,
          "yanchor": "bottom",
          "yref": "paper"
         },
         {
          "font": {
           "size": 16
          },
          "showarrow": false,
          "text": "Brain",
          "x": 0.775,
          "xanchor": "center",
          "xref": "paper",
          "y": 1,
          "yanchor": "bottom",
          "yref": "paper"
         }
        ],
        "height": 600,
        "template": {
         "data": {
          "bar": [
           {
            "error_x": {
             "color": "#2a3f5f"
            },
            "error_y": {
             "color": "#2a3f5f"
            },
            "marker": {
             "line": {
              "color": "#E5ECF6",
              "width": 0.5
             },
             "pattern": {
              "fillmode": "overlay",
              "size": 10,
              "solidity": 0.2
             }
            },
            "type": "bar"
           }
          ],
          "barpolar": [
           {
            "marker": {
             "line": {
              "color": "#E5ECF6",
              "width": 0.5
             },
             "pattern": {
              "fillmode": "overlay",
              "size": 10,
              "solidity": 0.2
             }
            },
            "type": "barpolar"
           }
          ],
          "carpet": [
           {
            "aaxis": {
             "endlinecolor": "#2a3f5f",
             "gridcolor": "white",
             "linecolor": "white",
             "minorgridcolor": "white",
             "startlinecolor": "#2a3f5f"
            },
            "baxis": {
             "endlinecolor": "#2a3f5f",
             "gridcolor": "white",
             "linecolor": "white",
             "minorgridcolor": "white",
             "startlinecolor": "#2a3f5f"
            },
            "type": "carpet"
           }
          ],
          "choropleth": [
           {
            "colorbar": {
             "outlinewidth": 0,
             "ticks": ""
            },
            "type": "choropleth"
           }
          ],
          "contour": [
           {
            "colorbar": {
             "outlinewidth": 0,
             "ticks": ""
            },
            "colorscale": [
             [
              0,
              "#0d0887"
             ],
             [
              0.1111111111111111,
              "#46039f"
             ],
             [
              0.2222222222222222,
              "#7201a8"
             ],
             [
              0.3333333333333333,
              "#9c179e"
             ],
             [
              0.4444444444444444,
              "#bd3786"
             ],
             [
              0.5555555555555556,
              "#d8576b"
             ],
             [
              0.6666666666666666,
              "#ed7953"
             ],
             [
              0.7777777777777778,
              "#fb9f3a"
             ],
             [
              0.8888888888888888,
              "#fdca26"
             ],
             [
              1,
              "#f0f921"
             ]
            ],
            "type": "contour"
           }
          ],
          "contourcarpet": [
           {
            "colorbar": {
             "outlinewidth": 0,
             "ticks": ""
            },
            "type": "contourcarpet"
           }
          ],
          "heatmap": [
           {
            "colorbar": {
             "outlinewidth": 0,
             "ticks": ""
            },
            "colorscale": [
             [
              0,
              "#0d0887"
             ],
             [
              0.1111111111111111,
              "#46039f"
             ],
             [
              0.2222222222222222,
              "#7201a8"
             ],
             [
              0.3333333333333333,
              "#9c179e"
             ],
             [
              0.4444444444444444,
              "#bd3786"
             ],
             [
              0.5555555555555556,
              "#d8576b"
             ],
             [
              0.6666666666666666,
              "#ed7953"
             ],
             [
              0.7777777777777778,
              "#fb9f3a"
             ],
             [
              0.8888888888888888,
              "#fdca26"
             ],
             [
              1,
              "#f0f921"
             ]
            ],
            "type": "heatmap"
           }
          ],
          "histogram": [
           {
            "marker": {
             "pattern": {
              "fillmode": "overlay",
              "size": 10,
              "solidity": 0.2
             }
            },
            "type": "histogram"
           }
          ],
          "histogram2d": [
           {
            "colorbar": {
             "outlinewidth": 0,
             "ticks": ""
            },
            "colorscale": [
             [
              0,
              "#0d0887"
             ],
             [
              0.1111111111111111,
              "#46039f"
             ],
             [
              0.2222222222222222,
              "#7201a8"
             ],
             [
              0.3333333333333333,
              "#9c179e"
             ],
             [
              0.4444444444444444,
              "#bd3786"
             ],
             [
              0.5555555555555556,
              "#d8576b"
             ],
             [
              0.6666666666666666,
              "#ed7953"
             ],
             [
              0.7777777777777778,
              "#fb9f3a"
             ],
             [
              0.8888888888888888,
              "#fdca26"
             ],
             [
              1,
              "#f0f921"
             ]
            ],
            "type": "histogram2d"
           }
          ],
          "histogram2dcontour": [
           {
            "colorbar": {
             "outlinewidth": 0,
             "ticks": ""
            },
            "colorscale": [
             [
              0,
              "#0d0887"
             ],
             [
              0.1111111111111111,
              "#46039f"
             ],
             [
              0.2222222222222222,
              "#7201a8"
             ],
             [
              0.3333333333333333,
              "#9c179e"
             ],
             [
              0.4444444444444444,
              "#bd3786"
             ],
             [
              0.5555555555555556,
              "#d8576b"
             ],
             [
              0.6666666666666666,
              "#ed7953"
             ],
             [
              0.7777777777777778,
              "#fb9f3a"
             ],
             [
              0.8888888888888888,
              "#fdca26"
             ],
             [
              1,
              "#f0f921"
             ]
            ],
            "type": "histogram2dcontour"
           }
          ],
          "mesh3d": [
           {
            "colorbar": {
             "outlinewidth": 0,
             "ticks": ""
            },
            "type": "mesh3d"
           }
          ],
          "parcoords": [
           {
            "line": {
             "colorbar": {
              "outlinewidth": 0,
              "ticks": ""
             }
            },
            "type": "parcoords"
           }
          ],
          "pie": [
           {
            "automargin": true,
            "type": "pie"
           }
          ],
          "scatter": [
           {
            "fillpattern": {
             "fillmode": "overlay",
             "size": 10,
             "solidity": 0.2
            },
            "type": "scatter"
           }
          ],
          "scatter3d": [
           {
            "line": {
             "colorbar": {
              "outlinewidth": 0,
              "ticks": ""
             }
            },
            "marker": {
             "colorbar": {
              "outlinewidth": 0,
              "ticks": ""
             }
            },
            "type": "scatter3d"
           }
          ],
          "scattercarpet": [
           {
            "marker": {
             "colorbar": {
              "outlinewidth": 0,
              "ticks": ""
             }
            },
            "type": "scattercarpet"
           }
          ],
          "scattergeo": [
           {
            "marker": {
             "colorbar": {
              "outlinewidth": 0,
              "ticks": ""
             }
            },
            "type": "scattergeo"
           }
          ],
          "scattergl": [
           {
            "marker": {
             "colorbar": {
              "outlinewidth": 0,
              "ticks": ""
             }
            },
            "type": "scattergl"
           }
          ],
          "scattermap": [
           {
            "marker": {
             "colorbar": {
              "outlinewidth": 0,
              "ticks": ""
             }
            },
            "type": "scattermap"
           }
          ],
          "scattermapbox": [
           {
            "marker": {
             "colorbar": {
              "outlinewidth": 0,
              "ticks": ""
             }
            },
            "type": "scattermapbox"
           }
          ],
          "scatterpolar": [
           {
            "marker": {
             "colorbar": {
              "outlinewidth": 0,
              "ticks": ""
             }
            },
            "type": "scatterpolar"
           }
          ],
          "scatterpolargl": [
           {
            "marker": {
             "colorbar": {
              "outlinewidth": 0,
              "ticks": ""
             }
            },
            "type": "scatterpolargl"
           }
          ],
          "scatterternary": [
           {
            "marker": {
             "colorbar": {
              "outlinewidth": 0,
              "ticks": ""
             }
            },
            "type": "scatterternary"
           }
          ],
          "surface": [
           {
            "colorbar": {
             "outlinewidth": 0,
             "ticks": ""
            },
            "colorscale": [
             [
              0,
              "#0d0887"
             ],
             [
              0.1111111111111111,
              "#46039f"
             ],
             [
              0.2222222222222222,
              "#7201a8"
             ],
             [
              0.3333333333333333,
              "#9c179e"
             ],
             [
              0.4444444444444444,
              "#bd3786"
             ],
             [
              0.5555555555555556,
              "#d8576b"
             ],
             [
              0.6666666666666666,
              "#ed7953"
             ],
             [
              0.7777777777777778,
              "#fb9f3a"
             ],
             [
              0.8888888888888888,
              "#fdca26"
             ],
             [
              1,
              "#f0f921"
             ]
            ],
            "type": "surface"
           }
          ],
          "table": [
           {
            "cells": {
             "fill": {
              "color": "#EBF0F8"
             },
             "line": {
              "color": "white"
             }
            },
            "header": {
             "fill": {
              "color": "#C8D4E3"
             },
             "line": {
              "color": "white"
             }
            },
            "type": "table"
           }
          ]
         },
         "layout": {
          "annotationdefaults": {
           "arrowcolor": "#2a3f5f",
           "arrowhead": 0,
           "arrowwidth": 1
          },
          "autotypenumbers": "strict",
          "coloraxis": {
           "colorbar": {
            "outlinewidth": 0,
            "ticks": ""
           }
          },
          "colorscale": {
           "diverging": [
            [
             0,
             "#8e0152"
            ],
            [
             0.1,
             "#c51b7d"
            ],
            [
             0.2,
             "#de77ae"
            ],
            [
             0.3,
             "#f1b6da"
            ],
            [
             0.4,
             "#fde0ef"
            ],
            [
             0.5,
             "#f7f7f7"
            ],
            [
             0.6,
             "#e6f5d0"
            ],
            [
             0.7,
             "#b8e186"
            ],
            [
             0.8,
             "#7fbc41"
            ],
            [
             0.9,
             "#4d9221"
            ],
            [
             1,
             "#276419"
            ]
           ],
           "sequential": [
            [
             0,
             "#0d0887"
            ],
            [
             0.1111111111111111,
             "#46039f"
            ],
            [
             0.2222222222222222,
             "#7201a8"
            ],
            [
             0.3333333333333333,
             "#9c179e"
            ],
            [
             0.4444444444444444,
             "#bd3786"
            ],
            [
             0.5555555555555556,
             "#d8576b"
            ],
            [
             0.6666666666666666,
             "#ed7953"
            ],
            [
             0.7777777777777778,
             "#fb9f3a"
            ],
            [
             0.8888888888888888,
             "#fdca26"
            ],
            [
             1,
             "#f0f921"
            ]
           ],
           "sequentialminus": [
            [
             0,
             "#0d0887"
            ],
            [
             0.1111111111111111,
             "#46039f"
            ],
            [
             0.2222222222222222,
             "#7201a8"
            ],
            [
             0.3333333333333333,
             "#9c179e"
            ],
            [
             0.4444444444444444,
             "#bd3786"
            ],
            [
             0.5555555555555556,
             "#d8576b"
            ],
            [
             0.6666666666666666,
             "#ed7953"
            ],
            [
             0.7777777777777778,
             "#fb9f3a"
            ],
            [
             0.8888888888888888,
             "#fdca26"
            ],
            [
             1,
             "#f0f921"
            ]
           ]
          },
          "colorway": [
           "#636efa",
           "#EF553B",
           "#00cc96",
           "#ab63fa",
           "#FFA15A",
           "#19d3f3",
           "#FF6692",
           "#B6E880",
           "#FF97FF",
           "#FECB52"
          ],
          "font": {
           "color": "#2a3f5f"
          },
          "geo": {
           "bgcolor": "white",
           "lakecolor": "white",
           "landcolor": "#E5ECF6",
           "showlakes": true,
           "showland": true,
           "subunitcolor": "white"
          },
          "hoverlabel": {
           "align": "left"
          },
          "hovermode": "closest",
          "mapbox": {
           "style": "light"
          },
          "paper_bgcolor": "white",
          "plot_bgcolor": "#E5ECF6",
          "polar": {
           "angularaxis": {
            "gridcolor": "white",
            "linecolor": "white",
            "ticks": ""
           },
           "bgcolor": "#E5ECF6",
           "radialaxis": {
            "gridcolor": "white",
            "linecolor": "white",
            "ticks": ""
           }
          },
          "scene": {
           "xaxis": {
            "backgroundcolor": "#E5ECF6",
            "gridcolor": "white",
            "gridwidth": 2,
            "linecolor": "white",
            "showbackground": true,
            "ticks": "",
            "zerolinecolor": "white"
           },
           "yaxis": {
            "backgroundcolor": "#E5ECF6",
            "gridcolor": "white",
            "gridwidth": 2,
            "linecolor": "white",
            "showbackground": true,
            "ticks": "",
            "zerolinecolor": "white"
           },
           "zaxis": {
            "backgroundcolor": "#E5ECF6",
            "gridcolor": "white",
            "gridwidth": 2,
            "linecolor": "white",
            "showbackground": true,
            "ticks": "",
            "zerolinecolor": "white"
           }
          },
          "shapedefaults": {
           "line": {
            "color": "#2a3f5f"
           }
          },
          "ternary": {
           "aaxis": {
            "gridcolor": "white",
            "linecolor": "white",
            "ticks": ""
           },
           "baxis": {
            "gridcolor": "white",
            "linecolor": "white",
            "ticks": ""
           },
           "bgcolor": "#E5ECF6",
           "caxis": {
            "gridcolor": "white",
            "linecolor": "white",
            "ticks": ""
           }
          },
          "title": {
           "x": 0.05
          },
          "xaxis": {
           "automargin": true,
           "gridcolor": "white",
           "linecolor": "white",
           "ticks": "",
           "title": {
            "standoff": 15
           },
           "zerolinecolor": "white",
           "zerolinewidth": 2
          },
          "yaxis": {
           "automargin": true,
           "gridcolor": "white",
           "linecolor": "white",
           "ticks": "",
           "title": {
            "standoff": 15
           },
           "zerolinecolor": "white",
           "zerolinewidth": 2
          }
         }
        },
        "title": {
         "text": "Slice 17: Ventricles and Brain"
        },
        "width": 1000,
        "xaxis": {
         "anchor": "y",
         "domain": [
          0,
          0.45
         ]
        },
        "xaxis2": {
         "anchor": "y2",
         "domain": [
          0.55,
          1
         ]
        },
        "yaxis": {
         "anchor": "x",
         "domain": [
          0,
          1
         ],
         "scaleanchor": "x"
        },
        "yaxis2": {
         "anchor": "x2",
         "domain": [
          0,
          1
         ],
         "scaleanchor": "x"
        }
       }
      }
     },
     "metadata": {},
     "output_type": "display_data"
    }
   ],
   "source": [
    "visualize_dual_masks_with_lines(\n",
    "    mask1_path=paths_dict['aligned_ventricles'],\n",
    "    mask2_path=paths_dict['aligned_brain'],\n",
    "    slice_index=results['best_ventricle_segment']['z'],\n",
    "    line1={\n",
    "        'x1': results['best_ventricle_segment']['x1'],\n",
    "        'x2': results['best_ventricle_segment']['x2'],\n",
    "        'y':  results['best_ventricle_segment']['y']\n",
    "    },\n",
    "    line2={\n",
    "        'x1': results['skull_segment']['x1'],\n",
    "        'x2': results['skull_segment']['x2'],\n",
    "        'y':  results['skull_segment']['y']\n",
    "    },\n",
    "    label1='Ventricles',\n",
    "    label2='Brain'\n",
    ")\n"
   ]
  },
  {
   "cell_type": "code",
   "execution_count": 44,
   "metadata": {},
   "outputs": [],
   "source": [
    "def load_brain_data(json_path):\n",
    "    if not os.path.exists(json_path):\n",
    "        raise FileNotFoundError(f\"File not found: {json_path}\")\n",
    "    with open(json_path, 'r') as f:\n",
    "        data = json.load(f)\n",
    "    return data\n",
    "\n",
    "def get_volume(data, key):\n",
    "    return data.get(key, {}).get(\"volume\", 0)\n",
    "\n",
    "def calculate_brain_metrics(json_path):\n",
    "    data = load_brain_data(json_path)\n",
    "\n",
    "    ventricle_volume = get_volume(data, \"ventricle\")\n",
    "\n",
    "    lobar_regions = [\"frontal_lobe\", \"parietal_lobe\", \"occipital_lobe\", \"temporal_lobe\"]\n",
    "    if get_volume(data, \"cerebellum\") > 0:\n",
    "        lobar_regions.append(\"cerebellum\")\n",
    "\n",
    "    brain_volume = sum(get_volume(data, region) for region in lobar_regions)\n",
    "\n",
    "    # Calculate Ventricle-to-Brain-Ratio\n",
    "    vbr = ventricle_volume / brain_volume if brain_volume > 0 else 0\n",
    "\n",
    "    return {\n",
    "        \"brain_volume\": brain_volume,\n",
    "        \"ventricle_volume\": ventricle_volume,\n",
    "        \"VBR\": round(vbr, 4),\n",
    "        \"note\": \">0.03 may indicate hydrocephalus\" if vbr > 0.03 else \"within normal range\"\n",
    "    }"
   ]
  },
  {
   "cell_type": "code",
   "execution_count": 45,
   "metadata": {},
   "outputs": [
    {
     "name": "stdout",
     "output_type": "stream",
     "text": [
      "{'VBR': 0.5091, 'note': '>0.03 may indicate hydrocephalus'}\n"
     ]
    }
   ],
   "source": [
    "statistics_path = os.path.join(base, 'brain_structures', 'statistics.json')\n",
    "metrics_results = calculate_brain_metrics(statistics_path)\n",
    "print({key: metrics_results[key] for key in ['VBR', 'note']})"
   ]
  },
  {
   "cell_type": "code",
   "execution_count": null,
   "metadata": {},
   "outputs": [],
   "source": []
  }
 ],
 "metadata": {
  "kernelspec": {
   "display_name": "env",
   "language": "python",
   "name": "python3"
  },
  "language_info": {
   "codemirror_mode": {
    "name": "ipython",
    "version": 3
   },
   "file_extension": ".py",
   "mimetype": "text/x-python",
   "name": "python",
   "nbconvert_exporter": "python",
   "pygments_lexer": "ipython3",
   "version": "3.10.9"
  }
 },
 "nbformat": 4,
 "nbformat_minor": 2
}
